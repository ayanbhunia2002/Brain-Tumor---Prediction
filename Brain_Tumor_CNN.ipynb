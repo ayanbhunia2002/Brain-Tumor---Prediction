{
  "nbformat": 4,
  "nbformat_minor": 0,
  "metadata": {
    "colab": {
      "provenance": []
    },
    "kernelspec": {
      "name": "python3",
      "display_name": "Python 3"
    },
    "language_info": {
      "name": "python"
    }
  },
  "cells": [
    {
      "cell_type": "code",
      "execution_count": 1,
      "metadata": {
        "id": "9kXWgAHI-pbg"
      },
      "outputs": [],
      "source": [
        "import warnings\n",
        "warnings.filterwarnings('ignore')"
      ]
    },
    {
      "cell_type": "code",
      "source": [
        "!pip install tensorflow"
      ],
      "metadata": {
        "colab": {
          "base_uri": "https://localhost:8080/"
        },
        "id": "1fjqoU4--tu7",
        "outputId": "7a1b9e3b-6290-48e1-d2aa-1a00c70b9a92"
      },
      "execution_count": 2,
      "outputs": [
        {
          "output_type": "stream",
          "name": "stdout",
          "text": [
            "Requirement already satisfied: tensorflow in /usr/local/lib/python3.10/dist-packages (2.15.0)\n",
            "Requirement already satisfied: absl-py>=1.0.0 in /usr/local/lib/python3.10/dist-packages (from tensorflow) (1.4.0)\n",
            "Requirement already satisfied: astunparse>=1.6.0 in /usr/local/lib/python3.10/dist-packages (from tensorflow) (1.6.3)\n",
            "Requirement already satisfied: flatbuffers>=23.5.26 in /usr/local/lib/python3.10/dist-packages (from tensorflow) (24.3.25)\n",
            "Requirement already satisfied: gast!=0.5.0,!=0.5.1,!=0.5.2,>=0.2.1 in /usr/local/lib/python3.10/dist-packages (from tensorflow) (0.5.4)\n",
            "Requirement already satisfied: google-pasta>=0.1.1 in /usr/local/lib/python3.10/dist-packages (from tensorflow) (0.2.0)\n",
            "Requirement already satisfied: h5py>=2.9.0 in /usr/local/lib/python3.10/dist-packages (from tensorflow) (3.9.0)\n",
            "Requirement already satisfied: libclang>=13.0.0 in /usr/local/lib/python3.10/dist-packages (from tensorflow) (18.1.1)\n",
            "Requirement already satisfied: ml-dtypes~=0.2.0 in /usr/local/lib/python3.10/dist-packages (from tensorflow) (0.2.0)\n",
            "Requirement already satisfied: numpy<2.0.0,>=1.23.5 in /usr/local/lib/python3.10/dist-packages (from tensorflow) (1.25.2)\n",
            "Requirement already satisfied: opt-einsum>=2.3.2 in /usr/local/lib/python3.10/dist-packages (from tensorflow) (3.3.0)\n",
            "Requirement already satisfied: packaging in /usr/local/lib/python3.10/dist-packages (from tensorflow) (24.0)\n",
            "Requirement already satisfied: protobuf!=4.21.0,!=4.21.1,!=4.21.2,!=4.21.3,!=4.21.4,!=4.21.5,<5.0.0dev,>=3.20.3 in /usr/local/lib/python3.10/dist-packages (from tensorflow) (3.20.3)\n",
            "Requirement already satisfied: setuptools in /usr/local/lib/python3.10/dist-packages (from tensorflow) (67.7.2)\n",
            "Requirement already satisfied: six>=1.12.0 in /usr/local/lib/python3.10/dist-packages (from tensorflow) (1.16.0)\n",
            "Requirement already satisfied: termcolor>=1.1.0 in /usr/local/lib/python3.10/dist-packages (from tensorflow) (2.4.0)\n",
            "Requirement already satisfied: typing-extensions>=3.6.6 in /usr/local/lib/python3.10/dist-packages (from tensorflow) (4.11.0)\n",
            "Requirement already satisfied: wrapt<1.15,>=1.11.0 in /usr/local/lib/python3.10/dist-packages (from tensorflow) (1.14.1)\n",
            "Requirement already satisfied: tensorflow-io-gcs-filesystem>=0.23.1 in /usr/local/lib/python3.10/dist-packages (from tensorflow) (0.37.0)\n",
            "Requirement already satisfied: grpcio<2.0,>=1.24.3 in /usr/local/lib/python3.10/dist-packages (from tensorflow) (1.63.0)\n",
            "Requirement already satisfied: tensorboard<2.16,>=2.15 in /usr/local/lib/python3.10/dist-packages (from tensorflow) (2.15.2)\n",
            "Requirement already satisfied: tensorflow-estimator<2.16,>=2.15.0 in /usr/local/lib/python3.10/dist-packages (from tensorflow) (2.15.0)\n",
            "Requirement already satisfied: keras<2.16,>=2.15.0 in /usr/local/lib/python3.10/dist-packages (from tensorflow) (2.15.0)\n",
            "Requirement already satisfied: wheel<1.0,>=0.23.0 in /usr/local/lib/python3.10/dist-packages (from astunparse>=1.6.0->tensorflow) (0.43.0)\n",
            "Requirement already satisfied: google-auth<3,>=1.6.3 in /usr/local/lib/python3.10/dist-packages (from tensorboard<2.16,>=2.15->tensorflow) (2.27.0)\n",
            "Requirement already satisfied: google-auth-oauthlib<2,>=0.5 in /usr/local/lib/python3.10/dist-packages (from tensorboard<2.16,>=2.15->tensorflow) (1.2.0)\n",
            "Requirement already satisfied: markdown>=2.6.8 in /usr/local/lib/python3.10/dist-packages (from tensorboard<2.16,>=2.15->tensorflow) (3.6)\n",
            "Requirement already satisfied: requests<3,>=2.21.0 in /usr/local/lib/python3.10/dist-packages (from tensorboard<2.16,>=2.15->tensorflow) (2.31.0)\n",
            "Requirement already satisfied: tensorboard-data-server<0.8.0,>=0.7.0 in /usr/local/lib/python3.10/dist-packages (from tensorboard<2.16,>=2.15->tensorflow) (0.7.2)\n",
            "Requirement already satisfied: werkzeug>=1.0.1 in /usr/local/lib/python3.10/dist-packages (from tensorboard<2.16,>=2.15->tensorflow) (3.0.3)\n",
            "Requirement already satisfied: cachetools<6.0,>=2.0.0 in /usr/local/lib/python3.10/dist-packages (from google-auth<3,>=1.6.3->tensorboard<2.16,>=2.15->tensorflow) (5.3.3)\n",
            "Requirement already satisfied: pyasn1-modules>=0.2.1 in /usr/local/lib/python3.10/dist-packages (from google-auth<3,>=1.6.3->tensorboard<2.16,>=2.15->tensorflow) (0.4.0)\n",
            "Requirement already satisfied: rsa<5,>=3.1.4 in /usr/local/lib/python3.10/dist-packages (from google-auth<3,>=1.6.3->tensorboard<2.16,>=2.15->tensorflow) (4.9)\n",
            "Requirement already satisfied: requests-oauthlib>=0.7.0 in /usr/local/lib/python3.10/dist-packages (from google-auth-oauthlib<2,>=0.5->tensorboard<2.16,>=2.15->tensorflow) (1.3.1)\n",
            "Requirement already satisfied: charset-normalizer<4,>=2 in /usr/local/lib/python3.10/dist-packages (from requests<3,>=2.21.0->tensorboard<2.16,>=2.15->tensorflow) (3.3.2)\n",
            "Requirement already satisfied: idna<4,>=2.5 in /usr/local/lib/python3.10/dist-packages (from requests<3,>=2.21.0->tensorboard<2.16,>=2.15->tensorflow) (3.7)\n",
            "Requirement already satisfied: urllib3<3,>=1.21.1 in /usr/local/lib/python3.10/dist-packages (from requests<3,>=2.21.0->tensorboard<2.16,>=2.15->tensorflow) (2.0.7)\n",
            "Requirement already satisfied: certifi>=2017.4.17 in /usr/local/lib/python3.10/dist-packages (from requests<3,>=2.21.0->tensorboard<2.16,>=2.15->tensorflow) (2024.2.2)\n",
            "Requirement already satisfied: MarkupSafe>=2.1.1 in /usr/local/lib/python3.10/dist-packages (from werkzeug>=1.0.1->tensorboard<2.16,>=2.15->tensorflow) (2.1.5)\n",
            "Requirement already satisfied: pyasn1<0.7.0,>=0.4.6 in /usr/local/lib/python3.10/dist-packages (from pyasn1-modules>=0.2.1->google-auth<3,>=1.6.3->tensorboard<2.16,>=2.15->tensorflow) (0.6.0)\n",
            "Requirement already satisfied: oauthlib>=3.0.0 in /usr/local/lib/python3.10/dist-packages (from requests-oauthlib>=0.7.0->google-auth-oauthlib<2,>=0.5->tensorboard<2.16,>=2.15->tensorflow) (3.2.2)\n"
          ]
        }
      ]
    },
    {
      "cell_type": "code",
      "source": [
        "import pandas as pd\n",
        "import numpy as np\n",
        "import cv2\n",
        "import os\n",
        "import matplotlib.pyplot as plt\n",
        "import seaborn as sns\n",
        "\n",
        "import tensorflow as tf\n",
        "os.environ['TF_CPP_MIN_LOG_LEVEL'] = '3'\n",
        "\n",
        "from keras.models import Sequential\n",
        "from keras.layers import Dense, Flatten, Conv2D, MaxPooling2D\n",
        "from keras.layers import Input, Activation, LeakyReLU, Dropout\n",
        "from keras.losses import BinaryCrossentropy\n",
        "from tensorflow.keras.optimizers import Adam\n",
        "\n",
        "\n",
        "\n",
        "from sklearn.model_selection import train_test_split\n",
        "from sklearn.metrics import classification_report, confusion_matrix"
      ],
      "metadata": {
        "id": "Ro8xK2qt-w0O"
      },
      "execution_count": 3,
      "outputs": []
    },
    {
      "cell_type": "code",
      "source": [
        "from google.colab import drive\n",
        "drive.mount('/content/drive')"
      ],
      "metadata": {
        "colab": {
          "base_uri": "https://localhost:8080/"
        },
        "id": "cKa3isHr-8sO",
        "outputId": "9abd2646-1bf2-4fbc-e021-8b7319048d86"
      },
      "execution_count": 4,
      "outputs": [
        {
          "output_type": "stream",
          "name": "stdout",
          "text": [
            "Mounted at /content/drive\n"
          ]
        }
      ]
    },
    {
      "cell_type": "markdown",
      "source": [
        "**Preparing the Image data**"
      ],
      "metadata": {
        "id": "bCFMBCZqNcFP"
      }
    },
    {
      "cell_type": "code",
      "source": [
        "import os\n",
        "\n",
        "dataset_path = '/content/drive/My Drive/brain_tumor_dataset'\n",
        "\n",
        "folders = os.listdir(dataset_path)\n",
        "print(folders)"
      ],
      "metadata": {
        "colab": {
          "base_uri": "https://localhost:8080/"
        },
        "id": "g_M7YQ9EM_Hk",
        "outputId": "b211f5af-0b12-449e-8ad5-f2ab20bf2396"
      },
      "execution_count": 5,
      "outputs": [
        {
          "output_type": "stream",
          "name": "stdout",
          "text": [
            "['no', 'yes']\n"
          ]
        }
      ]
    },
    {
      "cell_type": "code",
      "source": [
        "subdirs = os.listdir(dataset_path)[:2]\n",
        "for subdir in subdirs:\n",
        "    print(f\"{subdir} contains {len(os.listdir(dataset_path+'/'+subdir))} images\")"
      ],
      "metadata": {
        "colab": {
          "base_uri": "https://localhost:8080/"
        },
        "id": "dLcsbXo2M_id",
        "outputId": "7f96e605-7c2e-4c16-e1bd-3db42b1676a3"
      },
      "execution_count": 6,
      "outputs": [
        {
          "output_type": "stream",
          "name": "stdout",
          "text": [
            "no contains 98 images\n",
            "yes contains 155 images\n"
          ]
        }
      ]
    },
    {
      "cell_type": "code",
      "source": [],
      "metadata": {
        "id": "EbY3jpitNCrf"
      },
      "execution_count": 6,
      "outputs": []
    },
    {
      "cell_type": "code",
      "source": [
        "def load_images(folder):\n",
        "\n",
        "    imgs = []\n",
        "    target = 0\n",
        "    labels = []\n",
        "    for i in os.listdir(folder):\n",
        "        subdir = os.path.join(folder, i)\n",
        "        for j in os.listdir(subdir):\n",
        "            img_dir = os.path.join(subdir,j)\n",
        "            try:\n",
        "                img = cv2.imread(img_dir)\n",
        "                img = cv2.cvtColor(img, cv2.COLOR_BGR2GRAY)\n",
        "                img = cv2.resize(img, (128,128))\n",
        "                imgs.append(img)\n",
        "                labels.append(target)\n",
        "            except:\n",
        "                continue\n",
        "        target += 1\n",
        "\n",
        "    imgs = np.array(imgs)\n",
        "    labels = np.array(labels)\n",
        "\n",
        "    return imgs, labels\n"
      ],
      "metadata": {
        "id": "Ue6iZhz4d8e6"
      },
      "execution_count": 7,
      "outputs": []
    },
    {
      "cell_type": "code",
      "source": [
        "data, labels = load_images(dataset_path)\n",
        "data.shape, labels.shape"
      ],
      "metadata": {
        "colab": {
          "base_uri": "https://localhost:8080/"
        },
        "id": "81slsEWfNF2s",
        "outputId": "2cacd7c0-aaa9-40a3-9a79-50905ed8d965"
      },
      "execution_count": 8,
      "outputs": [
        {
          "output_type": "execute_result",
          "data": {
            "text/plain": [
              "((253, 128, 128), (253,))"
            ]
          },
          "metadata": {},
          "execution_count": 8
        }
      ]
    },
    {
      "cell_type": "markdown",
      "source": [
        "**Visualizing images**\n"
      ],
      "metadata": {
        "id": "Mo_rLx80Nllv"
      }
    },
    {
      "cell_type": "code",
      "source": [
        "# def plot_images(start, end):\n",
        "#     plt.figure(figsize=(22,8))\n",
        "#     for i in range(10):\n",
        "#         axs = plt.subplot(2,5, i+1)\n",
        "#         idx = np.random.randint(start, end)\n",
        "#         plt.imshow(data[idx], cmap='gray')\n",
        "#         plt.axis('on')\n",
        "#         axs.set_xticklabels([])\n",
        "#         axs.set_yticklabels([])\n",
        "#         plt.subplots_adjust(wspace=None, hspace=None)"
      ],
      "metadata": {
        "id": "UTbFtlDHNKD1"
      },
      "execution_count": 9,
      "outputs": []
    },
    {
      "cell_type": "code",
      "source": [
        "# plot_images(98,252)"
      ],
      "metadata": {
        "id": "5q6J0YquNMG-"
      },
      "execution_count": null,
      "outputs": []
    },
    {
      "cell_type": "code",
      "source": [
        "# plot_images(0,97)"
      ],
      "metadata": {
        "id": "47BcmW7wOBDh"
      },
      "execution_count": null,
      "outputs": []
    },
    {
      "cell_type": "markdown",
      "source": [
        "**Normalization**\n",
        "\n",
        "in Image Classification,\n",
        "\n",
        "Xnorm = (X - Xmin) / (Xmax - Xmin) italicized text\n",
        "\n",
        "with images, Xmin is 0 and Xmax is 255\n",
        "\n",
        "after which, we will be using Numpy's expand_dims() to add dimension to our data."
      ],
      "metadata": {
        "id": "rjDOKMWmOWf8"
      }
    },
    {
      "cell_type": "code",
      "source": [
        "norm_data = data / 255.\n",
        "norm_data = np.expand_dims(norm_data, axis=3)\n",
        "norm_data.shape, norm_data[0]"
      ],
      "metadata": {
        "colab": {
          "base_uri": "https://localhost:8080/"
        },
        "id": "JTMEA1TrOOO7",
        "outputId": "2853cee3-d8ca-4c82-8722-0c593d58af96"
      },
      "execution_count": 10,
      "outputs": [
        {
          "output_type": "execute_result",
          "data": {
            "text/plain": [
              "((253, 128, 128, 1),\n",
              " array([[[0.00784314],\n",
              "         [0.00784314],\n",
              "         [0.00784314],\n",
              "         ...,\n",
              "         [0.00784314],\n",
              "         [0.00784314],\n",
              "         [0.00784314]],\n",
              " \n",
              "        [[0.00784314],\n",
              "         [0.00784314],\n",
              "         [0.00784314],\n",
              "         ...,\n",
              "         [0.00784314],\n",
              "         [0.00784314],\n",
              "         [0.00784314]],\n",
              " \n",
              "        [[0.00784314],\n",
              "         [0.00784314],\n",
              "         [0.00784314],\n",
              "         ...,\n",
              "         [0.00784314],\n",
              "         [0.00784314],\n",
              "         [0.00784314]],\n",
              " \n",
              "        ...,\n",
              " \n",
              "        [[0.00784314],\n",
              "         [0.00784314],\n",
              "         [0.00784314],\n",
              "         ...,\n",
              "         [0.00784314],\n",
              "         [0.00784314],\n",
              "         [0.00784314]],\n",
              " \n",
              "        [[0.00784314],\n",
              "         [0.00784314],\n",
              "         [0.00784314],\n",
              "         ...,\n",
              "         [0.00784314],\n",
              "         [0.00784314],\n",
              "         [0.00784314]],\n",
              " \n",
              "        [[0.00784314],\n",
              "         [0.00784314],\n",
              "         [0.00784314],\n",
              "         ...,\n",
              "         [0.00784314],\n",
              "         [0.00784314],\n",
              "         [0.00784314]]]))"
            ]
          },
          "metadata": {},
          "execution_count": 10
        }
      ]
    },
    {
      "cell_type": "markdown",
      "source": [
        "**Convolutional Neural Network**\n"
      ],
      "metadata": {
        "id": "-67FoudiOT-M"
      }
    },
    {
      "cell_type": "code",
      "source": [
        "SEED = 40"
      ],
      "metadata": {
        "id": "0ni7x9DjOw9u"
      },
      "execution_count": 11,
      "outputs": []
    },
    {
      "cell_type": "code",
      "source": [
        "tf.random.set_seed(SEED)\n",
        "\n",
        "model = tf.keras.models.Sequential([\n",
        "    tf.keras.layers.Conv2D(filters=64,\n",
        "                           kernel_size=3,\n",
        "                           activation='relu',\n",
        "                           input_shape=(128,128,1)),\n",
        "    tf.keras.layers.Conv2D(32,3,activation='relu'),\n",
        "    tf.keras.layers.MaxPool2D(pool_size=2,\n",
        "                              padding='valid'),\n",
        "    tf.keras.layers.Conv2D(32,3,activation='relu'),\n",
        "    tf.keras.layers.Conv2D(16,3,activation='relu'),\n",
        "    tf.keras.layers.MaxPool2D(2),\n",
        "    tf.keras.layers.Flatten(),\n",
        "    tf.keras.layers.Dense(1, activation='sigmoid')\n",
        "])"
      ],
      "metadata": {
        "id": "mxFr2XA0Oy5J"
      },
      "execution_count": 12,
      "outputs": []
    },
    {
      "cell_type": "markdown",
      "source": [
        "**compiling the model**"
      ],
      "metadata": {
        "id": "m1nEJsXkO5FO"
      }
    },
    {
      "cell_type": "code",
      "source": [
        "model.compile(loss = tf.keras.losses.BinaryCrossentropy(),\n",
        "              optimizer = tf.keras.optimizers.Adam(),\n",
        "                metrics = [\"accuracy\"])"
      ],
      "metadata": {
        "id": "0DQk7b-EO0ho"
      },
      "execution_count": 13,
      "outputs": []
    },
    {
      "cell_type": "markdown",
      "source": [
        "**fitting the model**"
      ],
      "metadata": {
        "id": "nPmS6wTsO8YF"
      }
    },
    {
      "cell_type": "code",
      "source": [
        "history = model.fit(norm_data, labels, epochs = 20, validation_split = 0.20)"
      ],
      "metadata": {
        "colab": {
          "base_uri": "https://localhost:8080/"
        },
        "id": "GQSTb4J_O7aJ",
        "outputId": "cc6d8751-78f7-440d-f374-ee0ba783acd4"
      },
      "execution_count": 14,
      "outputs": [
        {
          "output_type": "stream",
          "name": "stdout",
          "text": [
            "Epoch 1/20\n",
            "7/7 [==============================] - 13s 2s/step - loss: 0.6742 - accuracy: 0.6040 - val_loss: 0.5122 - val_accuracy: 0.9216\n",
            "Epoch 2/20\n",
            "7/7 [==============================] - 12s 2s/step - loss: 0.5764 - accuracy: 0.7079 - val_loss: 0.2267 - val_accuracy: 0.9020\n",
            "Epoch 3/20\n",
            "7/7 [==============================] - 12s 2s/step - loss: 0.5764 - accuracy: 0.7277 - val_loss: 0.7356 - val_accuracy: 0.6275\n",
            "Epoch 4/20\n",
            "7/7 [==============================] - 19s 3s/step - loss: 0.4964 - accuracy: 0.7921 - val_loss: 0.4701 - val_accuracy: 0.8039\n",
            "Epoch 5/20\n",
            "7/7 [==============================] - 12s 2s/step - loss: 0.4629 - accuracy: 0.8069 - val_loss: 0.5702 - val_accuracy: 0.7647\n",
            "Epoch 6/20\n",
            "7/7 [==============================] - 12s 2s/step - loss: 0.4637 - accuracy: 0.7921 - val_loss: 0.3760 - val_accuracy: 0.8824\n",
            "Epoch 7/20\n",
            "7/7 [==============================] - 12s 2s/step - loss: 0.4310 - accuracy: 0.8218 - val_loss: 0.5213 - val_accuracy: 0.8039\n",
            "Epoch 8/20\n",
            "7/7 [==============================] - 11s 2s/step - loss: 0.3955 - accuracy: 0.8069 - val_loss: 0.3999 - val_accuracy: 0.8627\n",
            "Epoch 9/20\n",
            "7/7 [==============================] - 11s 2s/step - loss: 0.3409 - accuracy: 0.8267 - val_loss: 0.4824 - val_accuracy: 0.8039\n",
            "Epoch 10/20\n",
            "7/7 [==============================] - 12s 2s/step - loss: 0.2830 - accuracy: 0.8861 - val_loss: 0.4173 - val_accuracy: 0.8431\n",
            "Epoch 11/20\n",
            "7/7 [==============================] - 12s 2s/step - loss: 0.2742 - accuracy: 0.8812 - val_loss: 0.8313 - val_accuracy: 0.6275\n",
            "Epoch 12/20\n",
            "7/7 [==============================] - 11s 2s/step - loss: 0.2477 - accuracy: 0.9059 - val_loss: 0.2009 - val_accuracy: 0.9216\n",
            "Epoch 13/20\n",
            "7/7 [==============================] - 12s 2s/step - loss: 0.2050 - accuracy: 0.8861 - val_loss: 0.6601 - val_accuracy: 0.7451\n",
            "Epoch 14/20\n",
            "7/7 [==============================] - 12s 2s/step - loss: 0.1488 - accuracy: 0.9406 - val_loss: 0.2776 - val_accuracy: 0.9020\n",
            "Epoch 15/20\n",
            "7/7 [==============================] - 13s 2s/step - loss: 0.1223 - accuracy: 0.9604 - val_loss: 0.4462 - val_accuracy: 0.8235\n",
            "Epoch 16/20\n",
            "7/7 [==============================] - 11s 2s/step - loss: 0.0774 - accuracy: 0.9802 - val_loss: 0.3045 - val_accuracy: 0.9020\n",
            "Epoch 17/20\n",
            "7/7 [==============================] - 11s 2s/step - loss: 0.0499 - accuracy: 0.9703 - val_loss: 0.3809 - val_accuracy: 0.9020\n",
            "Epoch 18/20\n",
            "7/7 [==============================] - 12s 2s/step - loss: 0.0241 - accuracy: 0.9950 - val_loss: 0.3564 - val_accuracy: 0.9020\n",
            "Epoch 19/20\n",
            "7/7 [==============================] - 12s 2s/step - loss: 0.0113 - accuracy: 1.0000 - val_loss: 0.4331 - val_accuracy: 0.8824\n",
            "Epoch 20/20\n",
            "7/7 [==============================] - 12s 2s/step - loss: 0.0055 - accuracy: 1.0000 - val_loss: 0.4143 - val_accuracy: 0.8824\n"
          ]
        }
      ]
    },
    {
      "cell_type": "markdown",
      "source": [
        "**Evaluation**"
      ],
      "metadata": {
        "id": "O3K9UwIkP0i7"
      }
    },
    {
      "cell_type": "code",
      "source": [
        "result = model.evaluate(norm_data, labels, verbose=0)\n",
        "print(f\"Accuracy on Evaluation: {result[1]*100:.2f}%\\nLoss: {result[0]:.4f}\")"
      ],
      "metadata": {
        "colab": {
          "base_uri": "https://localhost:8080/"
        },
        "id": "EBysmL9HP06w",
        "outputId": "0ea500ab-a719-49bf-a4a5-4a79b0eec449"
      },
      "execution_count": 15,
      "outputs": [
        {
          "output_type": "stream",
          "name": "stdout",
          "text": [
            "Accuracy on Evaluation: 97.63%\n",
            "Loss: 0.0863\n"
          ]
        }
      ]
    },
    {
      "cell_type": "markdown",
      "source": [
        "this above result gives the evaluation on the training set only, now we will make predictions on randomly picked images from the training data and compare our results.\n",
        "\n",
        "randomly generating 20 numbers to index from data"
      ],
      "metadata": {
        "id": "hyIuP2lTQBHB"
      }
    },
    {
      "cell_type": "code",
      "source": [
        "np.random.seed(SEED)\n",
        "indxs = np.random.randint(0, 252, 20)"
      ],
      "metadata": {
        "id": "EU17HuoDP_lx"
      },
      "execution_count": 16,
      "outputs": []
    },
    {
      "cell_type": "code",
      "source": [
        "y_pred_prob = model.predict(norm_data[indxs])\n",
        "y_pred = np.array([1 if prob>0.5 else 0 for prob in y_pred_prob])\n",
        "\n",
        "y_true = labels[indxs]\n",
        "y_pred.shape, y_true.shape"
      ],
      "metadata": {
        "colab": {
          "base_uri": "https://localhost:8080/"
        },
        "id": "fQ2dn73eP2-Z",
        "outputId": "bcf3fb6a-b2d7-4264-91f9-b6cc6113f326"
      },
      "execution_count": 17,
      "outputs": [
        {
          "output_type": "stream",
          "name": "stdout",
          "text": [
            "1/1 [==============================] - 0s 469ms/step\n"
          ]
        },
        {
          "output_type": "execute_result",
          "data": {
            "text/plain": [
              "((20,), (20,))"
            ]
          },
          "metadata": {},
          "execution_count": 17
        }
      ]
    },
    {
      "cell_type": "code",
      "source": [
        "y_pred"
      ],
      "metadata": {
        "colab": {
          "base_uri": "https://localhost:8080/"
        },
        "id": "M4qlgqYLQH36",
        "outputId": "ff7c80e7-f4e5-49eb-c257-abd1d009b531"
      },
      "execution_count": 18,
      "outputs": [
        {
          "output_type": "execute_result",
          "data": {
            "text/plain": [
              "array([0, 1, 0, 1, 1, 1, 0, 1, 0, 0, 1, 0, 1, 0, 0, 0, 1, 0, 0, 1])"
            ]
          },
          "metadata": {},
          "execution_count": 18
        }
      ]
    },
    {
      "cell_type": "code",
      "source": [
        "plt.figure(figsize = (8,8))\n",
        "cm = confusion_matrix(y_true, y_pred)\n",
        "sns.heatmap(cm, cmap = \"Greens\", annot = True, fmt = \".2g\", cbar = False)\n",
        "plt.show()"
      ],
      "metadata": {
        "colab": {
          "base_uri": "https://localhost:8080/",
          "height": 676
        },
        "id": "TKkloTaDQJlU",
        "outputId": "d4d466b9-fe2c-44de-8b8b-6151b2898669"
      },
      "execution_count": 19,
      "outputs": [
        {
          "output_type": "display_data",
          "data": {
            "text/plain": [
              "<Figure size 800x800 with 1 Axes>"
            ],
            "image/png": "[encoded data removed]"
          },
          "metadata": {}
        }
      ]
    },
    {
      "cell_type": "code",
      "source": [
        "print(classification_report(y_true, y_pred))"
      ],
      "metadata": {
        "colab": {
          "base_uri": "https://localhost:8080/"
        },
        "id": "OjPVHh1DQK04",
        "outputId": "83e0c916-4008-4834-dcf8-6aa1efc0174c"
      },
      "execution_count": 20,
      "outputs": [
        {
          "output_type": "stream",
          "name": "stdout",
          "text": [
            "              precision    recall  f1-score   support\n",
            "\n",
            "           0       0.91      1.00      0.95        10\n",
            "           1       1.00      0.90      0.95        10\n",
            "\n",
            "    accuracy                           0.95        20\n",
            "   macro avg       0.95      0.95      0.95        20\n",
            "weighted avg       0.95      0.95      0.95        20\n",
            "\n"
          ]
        }
      ]
    },
    {
      "cell_type": "code",
      "source": [
        "model.summary()"
      ],
      "metadata": {
        "colab": {
          "base_uri": "https://localhost:8080/"
        },
        "id": "XhFbYhpqQMuE",
        "outputId": "73ec668d-9bc0-4f09-99e6-bfac486c69f0"
      },
      "execution_count": 21,
      "outputs": [
        {
          "output_type": "stream",
          "name": "stdout",
          "text": [
            "Model: \"sequential\"\n",
            "_________________________________________________________________\n",
            " Layer (type)                Output Shape              Param #   \n",
            "=================================================================\n",
            " conv2d (Conv2D)             (None, 126, 126, 64)      640       \n",
            "                                                                 \n",
            " conv2d_1 (Conv2D)           (None, 124, 124, 32)      18464     \n",
            "                                                                 \n",
            " max_pooling2d (MaxPooling2  (None, 62, 62, 32)        0         \n",
            " D)                                                              \n",
            "                                                                 \n",
            " conv2d_2 (Conv2D)           (None, 60, 60, 32)        9248      \n",
            "                                                                 \n",
            " conv2d_3 (Conv2D)           (None, 58, 58, 16)        4624      \n",
            "                                                                 \n",
            " max_pooling2d_1 (MaxPoolin  (None, 29, 29, 16)        0         \n",
            " g2D)                                                            \n",
            "                                                                 \n",
            " flatten (Flatten)           (None, 13456)             0         \n",
            "                                                                 \n",
            " dense (Dense)               (None, 1)                 13457     \n",
            "                                                                 \n",
            "=================================================================\n",
            "Total params: 46433 (181.38 KB)\n",
            "Trainable params: 46433 (181.38 KB)\n",
            "Non-trainable params: 0 (0.00 Byte)\n",
            "_________________________________________________________________\n"
          ]
        }
      ]
    },
    {
      "cell_type": "code",
      "source": [
        "histdf = pd.DataFrame(history.history)\n",
        "\n",
        "plt.figure(figsize=(12,8))\n",
        "plt.plot(histdf['accuracy'], label='Training Acc')\n",
        "plt.plot(histdf['val_accuracy'], label='Validation Acc')\n",
        "plt.plot(histdf['loss'], label='Loss')\n",
        "plt.legend()\n",
        "plt.show()"
      ],
      "metadata": {
        "colab": {
          "base_uri": "https://localhost:8080/",
          "height": 676
        },
        "id": "-Xav7uESQOWp",
        "outputId": "382f0e7d-38de-42e0-920d-455f39aa0fc8"
      },
      "execution_count": 22,
      "outputs": [
        {
          "output_type": "display_data",
          "data": {
            "text/plain": [
              "<Figure size 1200x800 with 1 Axes>"
            ],
            "image/png": "[encoded data removed]"
          },
          "metadata": {}
        }
      ]
    },
    {
      "cell_type": "code",
      "source": [
        "def preprocess_uploaded_image(image_path):\n",
        "    img = cv2.imread(image_path)\n",
        "    img = cv2.cvtColor(img, cv2.COLOR_BGR2GRAY)\n",
        "    img = cv2.resize(img, (128, 128))\n",
        "    img = img / 255.0\n",
        "    img = np.expand_dims(img, axis=-1)  # Add a channel dimension\n",
        "    return img"
      ],
      "metadata": {
        "id": "TolfW8NZROOl"
      },
      "execution_count": 23,
      "outputs": []
    },
    {
      "cell_type": "code",
      "source": [
        "uploaded_image_path = \"/content/21 no.jpg\"\n",
        "uploaded_image = preprocess_uploaded_image(uploaded_image_path)"
      ],
      "metadata": {
        "id": "7fBL0G4RQQtT"
      },
      "execution_count": 31,
      "outputs": []
    },
    {
      "cell_type": "code",
      "source": [
        "prediction = model.predict(np.array([uploaded_image]))\n",
        "print(prediction)\n",
        "if prediction[0][0] > 0.5:\n",
        "    print(\"Brain tumor is present.\")\n",
        "else:\n",
        "    print(\"No brain tumor detected.\")"
      ],
      "metadata": {
        "colab": {
          "base_uri": "https://localhost:8080/"
        },
        "id": "f7YiHVF3QS-D",
        "outputId": "9887dc2e-5224-40e5-c371-abb7b6e604c0"
      },
      "execution_count": 32,
      "outputs": [
        {
          "output_type": "stream",
          "name": "stdout",
          "text": [
            "1/1 [==============================] - 0s 26ms/step\n",
            "[[0.00179238]]\n",
            "No brain tumor detected.\n"
          ]
        }
      ]
    },
    {
      "cell_type": "code",
      "source": [],
      "metadata": {
        "id": "RX86doQyQywR"
      },
      "execution_count": null,
      "outputs": []
    }
  ]
}