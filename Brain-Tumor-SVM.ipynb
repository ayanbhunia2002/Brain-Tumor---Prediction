{
  "nbformat": 4,
  "nbformat_minor": 0,
  "metadata": {
    "colab": {
      "provenance": []
    },
    "kernelspec": {
      "name": "python3",
      "display_name": "Python 3"
    },
    "language_info": {
      "name": "python"
    }
  },
  "cells": [
    {
      "cell_type": "code",
      "execution_count": 87,
      "metadata": {
        "id": "UelmVWpLR5tL"
      },
      "outputs": [],
      "source": [
        "import os\n",
        "import keras\n",
        "#from keras.models import Sequential\n",
        "#from keras.preprocessing.image import ImageDataGenerator, load_img, img_to_array\n",
        "#from keras.layers import Conv2D ,MaxPooling2D,AveragePooling2D ,Flatten , Dense,Dropout,BatchNormalization\n",
        "from PIL import Image\n",
        "import numpy as np\n",
        "import pandas as pd\n",
        "import matplotlib.pyplot as plt\n",
        "plt.style.use('dark_background')\n",
        "from sklearn.model_selection import train_test_split\n",
        "from sklearn.preprocessing import OneHotEncoder\n",
        "import pickle\n",
        "import cv2\n",
        "from sklearn.preprocessing import StandardScaler\n",
        "from sklearn.metrics import classification_report, accuracy_score, confusion_matrix"
      ]
    },
    {
      "cell_type": "code",
      "source": [
        "data = []\n",
        "category = []"
      ],
      "metadata": {
        "id": "VZwox8X1BHgN"
      },
      "execution_count": 68,
      "outputs": []
    },
    {
      "cell_type": "code",
      "source": [
        "from google.colab import drive\n",
        "drive.mount('/content/drive')\n",
        "\n",
        "path = '/content/drive/My Drive/brain_tumor_dataset'"
      ],
      "metadata": {
        "colab": {
          "base_uri": "https://localhost:8080/"
        },
        "id": "x59jx3U2R80m",
        "outputId": "1274a665-b59f-4f95-9226-7737f04577e3"
      },
      "execution_count": 69,
      "outputs": [
        {
          "output_type": "stream",
          "name": "stdout",
          "text": [
            "Drive already mounted at /content/drive; to attempt to forcibly remount, call drive.mount(\"/content/drive\", force_remount=True).\n"
          ]
        }
      ]
    },
    {
      "cell_type": "code",
      "source": [
        "for filename in os.scandir(\"/content/drive/My Drive/brain_tumor_dataset/no\"):\n",
        "    if filename.is_file():\n",
        "        #print(filename.path)\n",
        "        img = Image.open(filename.path)\n",
        "        img = img.resize(size=(32,32))\n",
        "        img = img.convert('L')\n",
        "        data.append(np.array(img).flatten())\n",
        "        category.append(0)\n",
        "        del img"
      ],
      "metadata": {
        "id": "tM6W_eMpBRr_"
      },
      "execution_count": 70,
      "outputs": []
    },
    {
      "cell_type": "code",
      "source": [
        "for filename in os.scandir(\"/content/drive/My Drive/brain_tumor_dataset/yes\"):\n",
        "    if filename.is_file():\n",
        "        #print(filename.path)\n",
        "        img = Image.open(filename.path)\n",
        "        img = img.resize(size=(32,32))\n",
        "        img = img.convert('L')\n",
        "        data.append(np.array(img).flatten())\n",
        "        category.append(1)\n",
        "        del img"
      ],
      "metadata": {
        "id": "ZCV1Iyt8Bdl8"
      },
      "execution_count": 72,
      "outputs": []
    },
    {
      "cell_type": "code",
      "source": [
        "x,y = np.array(data),category"
      ],
      "metadata": {
        "id": "f3LUtOabBkQm"
      },
      "execution_count": 73,
      "outputs": []
    },
    {
      "cell_type": "code",
      "source": [
        "x.shape"
      ],
      "metadata": {
        "colab": {
          "base_uri": "https://localhost:8080/"
        },
        "id": "crn1wxoZBngX",
        "outputId": "e6b8e585-b76a-4ae5-e2b2-7d06c57a7470"
      },
      "execution_count": 74,
      "outputs": [
        {
          "output_type": "execute_result",
          "data": {
            "text/plain": [
              "(408, 1024)"
            ]
          },
          "metadata": {},
          "execution_count": 74
        }
      ]
    },
    {
      "cell_type": "code",
      "source": [
        "len(y)"
      ],
      "metadata": {
        "colab": {
          "base_uri": "https://localhost:8080/"
        },
        "id": "DLiaheSNBqDJ",
        "outputId": "9e22333c-0777-4de4-8781-0e182d07d685"
      },
      "execution_count": 75,
      "outputs": [
        {
          "output_type": "execute_result",
          "data": {
            "text/plain": [
              "408"
            ]
          },
          "metadata": {},
          "execution_count": 75
        }
      ]
    },
    {
      "cell_type": "code",
      "source": [
        "x_train,x_test,y_train,y_test = train_test_split(x,y,test_size=0.1,random_state=1)"
      ],
      "metadata": {
        "id": "qMYez_HWBtJU"
      },
      "execution_count": 76,
      "outputs": []
    },
    {
      "cell_type": "code",
      "source": [
        "## Normalization\n",
        "# scaler = StandardScaler()\n",
        "# X_train = scaler.fit_transform(x_train)\n",
        "# X_test = scaler.transform(x_test)"
      ],
      "metadata": {
        "id": "suAvVu3VHbC1"
      },
      "execution_count": 114,
      "outputs": []
    },
    {
      "cell_type": "markdown",
      "source": [
        "**Logistic Regression**"
      ],
      "metadata": {
        "id": "5EyI9bSPBw6F"
      }
    },
    {
      "cell_type": "code",
      "source": [
        "from sklearn.linear_model import LogisticRegression\n",
        "lg = LogisticRegression()"
      ],
      "metadata": {
        "id": "ehpcyBpwB2-F"
      },
      "execution_count": 90,
      "outputs": []
    },
    {
      "cell_type": "code",
      "source": [
        "lg.fit(x_train,y_train)"
      ],
      "metadata": {
        "colab": {
          "base_uri": "https://localhost:8080/",
          "height": 220
        },
        "id": "kueXh2rUB5eC",
        "outputId": "ffc6c6db-1278-4661-8c50-4cbe23595b16"
      },
      "execution_count": 115,
      "outputs": [
        {
          "output_type": "stream",
          "name": "stderr",
          "text": [
            "/usr/local/lib/python3.10/dist-packages/sklearn/linear_model/_logistic.py:458: ConvergenceWarning: lbfgs failed to converge (status=1):\n",
            "STOP: TOTAL NO. of ITERATIONS REACHED LIMIT.\n",
            "\n",
            "Increase the number of iterations (max_iter) or scale the data as shown in:\n",
            "    https://scikit-learn.org/stable/modules/preprocessing.html\n",
            "Please also refer to the documentation for alternative solver options:\n",
            "    https://scikit-learn.org/stable/modules/linear_model.html#logistic-regression\n",
            "  n_iter_i = _check_optimize_result(\n"
          ]
        },
        {
          "output_type": "execute_result",
          "data": {
            "text/plain": [
              "LogisticRegression()"
            ],
            "text/html": [
              "<style>#sk-container-id-9 {color: black;background-color: white;}#sk-container-id-9 pre{padding: 0;}#sk-container-id-9 div.sk-toggleable {background-color: white;}#sk-container-id-9 label.sk-toggleable__label {cursor: pointer;display: block;width: 100%;margin-bottom: 0;padding: 0.3em;box-sizing: border-box;text-align: center;}#sk-container-id-9 label.sk-toggleable__label-arrow:before {content: \"▸\";float: left;margin-right: 0.25em;color: #696969;}#sk-container-id-9 label.sk-toggleable__label-arrow:hover:before {color: black;}#sk-container-id-9 div.sk-estimator:hover label.sk-toggleable__label-arrow:before {color: black;}#sk-container-id-9 div.sk-toggleable__content {max-height: 0;max-width: 0;overflow: hidden;text-align: left;background-color: #f0f8ff;}#sk-container-id-9 div.sk-toggleable__content pre {margin: 0.2em;color: black;border-radius: 0.25em;background-color: #f0f8ff;}#sk-container-id-9 input.sk-toggleable__control:checked~div.sk-toggleable__content {max-height: 200px;max-width: 100%;overflow: auto;}#sk-container-id-9 input.sk-toggleable__control:checked~label.sk-toggleable__label-arrow:before {content: \"▾\";}#sk-container-id-9 div.sk-estimator input.sk-toggleable__control:checked~label.sk-toggleable__label {background-color: #d4ebff;}#sk-container-id-9 div.sk-label input.sk-toggleable__control:checked~label.sk-toggleable__label {background-color: #d4ebff;}#sk-container-id-9 input.sk-hidden--visually {border: 0;clip: rect(1px 1px 1px 1px);clip: rect(1px, 1px, 1px, 1px);height: 1px;margin: -1px;overflow: hidden;padding: 0;position: absolute;width: 1px;}#sk-container-id-9 div.sk-estimator {font-family: monospace;background-color: #f0f8ff;border: 1px dotted black;border-radius: 0.25em;box-sizing: border-box;margin-bottom: 0.5em;}#sk-container-id-9 div.sk-estimator:hover {background-color: #d4ebff;}#sk-container-id-9 div.sk-parallel-item::after {content: \"\";width: 100%;border-bottom: 1px solid gray;flex-grow: 1;}#sk-container-id-9 div.sk-label:hover label.sk-toggleable__label {background-color: #d4ebff;}#sk-container-id-9 div.sk-serial::before {content: \"\";position: absolute;border-left: 1px solid gray;box-sizing: border-box;top: 0;bottom: 0;left: 50%;z-index: 0;}#sk-container-id-9 div.sk-serial {display: flex;flex-direction: column;align-items: center;background-color: white;padding-right: 0.2em;padding-left: 0.2em;position: relative;}#sk-container-id-9 div.sk-item {position: relative;z-index: 1;}#sk-container-id-9 div.sk-parallel {display: flex;align-items: stretch;justify-content: center;background-color: white;position: relative;}#sk-container-id-9 div.sk-item::before, #sk-container-id-9 div.sk-parallel-item::before {content: \"\";position: absolute;border-left: 1px solid gray;box-sizing: border-box;top: 0;bottom: 0;left: 50%;z-index: -1;}#sk-container-id-9 div.sk-parallel-item {display: flex;flex-direction: column;z-index: 1;position: relative;background-color: white;}#sk-container-id-9 div.sk-parallel-item:first-child::after {align-self: flex-end;width: 50%;}#sk-container-id-9 div.sk-parallel-item:last-child::after {align-self: flex-start;width: 50%;}#sk-container-id-9 div.sk-parallel-item:only-child::after {width: 0;}#sk-container-id-9 div.sk-dashed-wrapped {border: 1px dashed gray;margin: 0 0.4em 0.5em 0.4em;box-sizing: border-box;padding-bottom: 0.4em;background-color: white;}#sk-container-id-9 div.sk-label label {font-family: monospace;font-weight: bold;display: inline-block;line-height: 1.2em;}#sk-container-id-9 div.sk-label-container {text-align: center;}#sk-container-id-9 div.sk-container {/* jupyter's `normalize.less` sets `[hidden] { display: none; }` but bootstrap.min.css set `[hidden] { display: none !important; }` so we also need the `!important` here to be able to override the default hidden behavior on the sphinx rendered scikit-learn.org. See: https://github.com/scikit-learn/scikit-learn/issues/21755 */display: inline-block !important;position: relative;}#sk-container-id-9 div.sk-text-repr-fallback {display: none;}</style><div id=\"sk-container-id-9\" class=\"sk-top-container\"><div class=\"sk-text-repr-fallback\"><pre>LogisticRegression()</pre><b>In a Jupyter environment, please rerun this cell to show the HTML representation or trust the notebook. <br />On GitHub, the HTML representation is unable to render, please try loading this page with nbviewer.org.</b></div><div class=\"sk-container\" hidden><div class=\"sk-item\"><div class=\"sk-estimator sk-toggleable\"><input class=\"sk-toggleable__control sk-hidden--visually\" id=\"sk-estimator-id-9\" type=\"checkbox\" checked><label for=\"sk-estimator-id-9\" class=\"sk-toggleable__label sk-toggleable__label-arrow\">LogisticRegression</label><div class=\"sk-toggleable__content\"><pre>LogisticRegression()</pre></div></div></div></div></div>"
            ]
          },
          "metadata": {},
          "execution_count": 115
        }
      ]
    },
    {
      "cell_type": "code",
      "source": [
        "lg.score(x_train,y_train)"
      ],
      "metadata": {
        "colab": {
          "base_uri": "https://localhost:8080/"
        },
        "id": "lOs_96ZGB_KD",
        "outputId": "039fddd0-1cfe-41f5-ba32-2b94bb1f6980"
      },
      "execution_count": 116,
      "outputs": [
        {
          "output_type": "execute_result",
          "data": {
            "text/plain": [
              "1.0"
            ]
          },
          "metadata": {},
          "execution_count": 116
        }
      ]
    },
    {
      "cell_type": "code",
      "source": [
        "lg.score(x_test,y_test)"
      ],
      "metadata": {
        "colab": {
          "base_uri": "https://localhost:8080/"
        },
        "id": "oKNRyL_YCCJx",
        "outputId": "37f1a4c3-a506-4346-cd81-9dc2c142198b"
      },
      "execution_count": 117,
      "outputs": [
        {
          "output_type": "execute_result",
          "data": {
            "text/plain": [
              "0.926829268292683"
            ]
          },
          "metadata": {},
          "execution_count": 117
        }
      ]
    },
    {
      "cell_type": "markdown",
      "source": [
        "**Support Vector Machine**\n"
      ],
      "metadata": {
        "id": "_nEZBa7rCElh"
      }
    },
    {
      "cell_type": "code",
      "source": [
        "from sklearn.svm import SVC\n",
        "svm_model = SVC(kernel='linear',C = 0.1,random_state=0)"
      ],
      "metadata": {
        "id": "hYxjvGbOCHVf"
      },
      "execution_count": 97,
      "outputs": []
    },
    {
      "cell_type": "code",
      "source": [
        "svm_model.fit(x_train,y_train)"
      ],
      "metadata": {
        "colab": {
          "base_uri": "https://localhost:8080/",
          "height": 74
        },
        "id": "-k5O5Fp4CNDz",
        "outputId": "1099bbf4-1d2c-4b13-a5b0-8bec5cb017da"
      },
      "execution_count": 118,
      "outputs": [
        {
          "output_type": "execute_result",
          "data": {
            "text/plain": [
              "SVC(C=0.1, kernel='linear', random_state=0)"
            ],
            "text/html": [
              "<style>#sk-container-id-10 {color: black;background-color: white;}#sk-container-id-10 pre{padding: 0;}#sk-container-id-10 div.sk-toggleable {background-color: white;}#sk-container-id-10 label.sk-toggleable__label {cursor: pointer;display: block;width: 100%;margin-bottom: 0;padding: 0.3em;box-sizing: border-box;text-align: center;}#sk-container-id-10 label.sk-toggleable__label-arrow:before {content: \"▸\";float: left;margin-right: 0.25em;color: #696969;}#sk-container-id-10 label.sk-toggleable__label-arrow:hover:before {color: black;}#sk-container-id-10 div.sk-estimator:hover label.sk-toggleable__label-arrow:before {color: black;}#sk-container-id-10 div.sk-toggleable__content {max-height: 0;max-width: 0;overflow: hidden;text-align: left;background-color: #f0f8ff;}#sk-container-id-10 div.sk-toggleable__content pre {margin: 0.2em;color: black;border-radius: 0.25em;background-color: #f0f8ff;}#sk-container-id-10 input.sk-toggleable__control:checked~div.sk-toggleable__content {max-height: 200px;max-width: 100%;overflow: auto;}#sk-container-id-10 input.sk-toggleable__control:checked~label.sk-toggleable__label-arrow:before {content: \"▾\";}#sk-container-id-10 div.sk-estimator input.sk-toggleable__control:checked~label.sk-toggleable__label {background-color: #d4ebff;}#sk-container-id-10 div.sk-label input.sk-toggleable__control:checked~label.sk-toggleable__label {background-color: #d4ebff;}#sk-container-id-10 input.sk-hidden--visually {border: 0;clip: rect(1px 1px 1px 1px);clip: rect(1px, 1px, 1px, 1px);height: 1px;margin: -1px;overflow: hidden;padding: 0;position: absolute;width: 1px;}#sk-container-id-10 div.sk-estimator {font-family: monospace;background-color: #f0f8ff;border: 1px dotted black;border-radius: 0.25em;box-sizing: border-box;margin-bottom: 0.5em;}#sk-container-id-10 div.sk-estimator:hover {background-color: #d4ebff;}#sk-container-id-10 div.sk-parallel-item::after {content: \"\";width: 100%;border-bottom: 1px solid gray;flex-grow: 1;}#sk-container-id-10 div.sk-label:hover label.sk-toggleable__label {background-color: #d4ebff;}#sk-container-id-10 div.sk-serial::before {content: \"\";position: absolute;border-left: 1px solid gray;box-sizing: border-box;top: 0;bottom: 0;left: 50%;z-index: 0;}#sk-container-id-10 div.sk-serial {display: flex;flex-direction: column;align-items: center;background-color: white;padding-right: 0.2em;padding-left: 0.2em;position: relative;}#sk-container-id-10 div.sk-item {position: relative;z-index: 1;}#sk-container-id-10 div.sk-parallel {display: flex;align-items: stretch;justify-content: center;background-color: white;position: relative;}#sk-container-id-10 div.sk-item::before, #sk-container-id-10 div.sk-parallel-item::before {content: \"\";position: absolute;border-left: 1px solid gray;box-sizing: border-box;top: 0;bottom: 0;left: 50%;z-index: -1;}#sk-container-id-10 div.sk-parallel-item {display: flex;flex-direction: column;z-index: 1;position: relative;background-color: white;}#sk-container-id-10 div.sk-parallel-item:first-child::after {align-self: flex-end;width: 50%;}#sk-container-id-10 div.sk-parallel-item:last-child::after {align-self: flex-start;width: 50%;}#sk-container-id-10 div.sk-parallel-item:only-child::after {width: 0;}#sk-container-id-10 div.sk-dashed-wrapped {border: 1px dashed gray;margin: 0 0.4em 0.5em 0.4em;box-sizing: border-box;padding-bottom: 0.4em;background-color: white;}#sk-container-id-10 div.sk-label label {font-family: monospace;font-weight: bold;display: inline-block;line-height: 1.2em;}#sk-container-id-10 div.sk-label-container {text-align: center;}#sk-container-id-10 div.sk-container {/* jupyter's `normalize.less` sets `[hidden] { display: none; }` but bootstrap.min.css set `[hidden] { display: none !important; }` so we also need the `!important` here to be able to override the default hidden behavior on the sphinx rendered scikit-learn.org. See: https://github.com/scikit-learn/scikit-learn/issues/21755 */display: inline-block !important;position: relative;}#sk-container-id-10 div.sk-text-repr-fallback {display: none;}</style><div id=\"sk-container-id-10\" class=\"sk-top-container\"><div class=\"sk-text-repr-fallback\"><pre>SVC(C=0.1, kernel=&#x27;linear&#x27;, random_state=0)</pre><b>In a Jupyter environment, please rerun this cell to show the HTML representation or trust the notebook. <br />On GitHub, the HTML representation is unable to render, please try loading this page with nbviewer.org.</b></div><div class=\"sk-container\" hidden><div class=\"sk-item\"><div class=\"sk-estimator sk-toggleable\"><input class=\"sk-toggleable__control sk-hidden--visually\" id=\"sk-estimator-id-10\" type=\"checkbox\" checked><label for=\"sk-estimator-id-10\" class=\"sk-toggleable__label sk-toggleable__label-arrow\">SVC</label><div class=\"sk-toggleable__content\"><pre>SVC(C=0.1, kernel=&#x27;linear&#x27;, random_state=0)</pre></div></div></div></div></div>"
            ]
          },
          "metadata": {},
          "execution_count": 118
        }
      ]
    },
    {
      "cell_type": "code",
      "source": [
        "svm_model.score(x_train,y_train)"
      ],
      "metadata": {
        "colab": {
          "base_uri": "https://localhost:8080/"
        },
        "id": "b3IEJZxACRFc",
        "outputId": "5249f47d-dfad-4a66-d58a-a6a5e76f88b7"
      },
      "execution_count": 119,
      "outputs": [
        {
          "output_type": "execute_result",
          "data": {
            "text/plain": [
              "1.0"
            ]
          },
          "metadata": {},
          "execution_count": 119
        }
      ]
    },
    {
      "cell_type": "code",
      "source": [
        "svm_model.score(x_test,y_test)"
      ],
      "metadata": {
        "colab": {
          "base_uri": "https://localhost:8080/"
        },
        "id": "7MWB5nhHCRzX",
        "outputId": "0f0f96d8-22e2-451e-c98a-004b7cf85b7d"
      },
      "execution_count": 120,
      "outputs": [
        {
          "output_type": "execute_result",
          "data": {
            "text/plain": [
              "0.926829268292683"
            ]
          },
          "metadata": {},
          "execution_count": 120
        }
      ]
    },
    {
      "cell_type": "code",
      "source": [
        "y_pred_train_svm = svm_model.predict(x_train)\n",
        "train_accuracy = accuracy_score(y_train, y_pred_train_svm)\n",
        "print(f'Train Accuracy: {train_accuracy}')"
      ],
      "metadata": {
        "colab": {
          "base_uri": "https://localhost:8080/"
        },
        "id": "QGrH4-GdH_Yi",
        "outputId": "df20f14f-e310-4056-cb0b-1dd4d6fd8c1d"
      },
      "execution_count": 121,
      "outputs": [
        {
          "output_type": "stream",
          "name": "stdout",
          "text": [
            "Train Accuracy: 1.0\n"
          ]
        }
      ]
    },
    {
      "cell_type": "code",
      "source": [
        "y_pred = svm_model.predict(x_test)\n",
        "print(\"Accuracy:\", accuracy_score(y_test, y_pred))\n",
        "print(\"Confusion Matrix:\\n\", confusion_matrix(y_test, y_pred))\n",
        "print(\"Classification Report:\\n\", classification_report(y_test, y_pred))"
      ],
      "metadata": {
        "colab": {
          "base_uri": "https://localhost:8080/"
        },
        "id": "12CZL7O-IJTt",
        "outputId": "0c36e4f8-62df-4c06-855b-26cbc1a43ed3"
      },
      "execution_count": 122,
      "outputs": [
        {
          "output_type": "stream",
          "name": "stdout",
          "text": [
            "Accuracy: 0.926829268292683\n",
            "Confusion Matrix:\n",
            " [[ 9  3]\n",
            " [ 0 29]]\n",
            "Classification Report:\n",
            "               precision    recall  f1-score   support\n",
            "\n",
            "           0       1.00      0.75      0.86        12\n",
            "           1       0.91      1.00      0.95        29\n",
            "\n",
            "    accuracy                           0.93        41\n",
            "   macro avg       0.95      0.88      0.90        41\n",
            "weighted avg       0.93      0.93      0.92        41\n",
            "\n"
          ]
        }
      ]
    },
    {
      "cell_type": "code",
      "source": [
        "# def load_data(data_path):\n",
        "#     data = load_files(data_path, shuffle=True)\n",
        "#     file_paths = np.array(data['filenames'])\n",
        "#     labels = np.array(data['target'])\n",
        "#     return file_paths, labels"
      ],
      "metadata": {
        "id": "7w7OFt7uhGFg"
      },
      "execution_count": 86,
      "outputs": []
    },
    {
      "cell_type": "code",
      "source": [],
      "metadata": {
        "id": "tGauBRbYBmsG"
      },
      "execution_count": null,
      "outputs": []
    },
    {
      "cell_type": "code",
      "source": [
        "# file_paths, labels = load_data(path)\n",
        "# labels"
      ],
      "metadata": {
        "id": "SoMDFs_DSCE6",
        "colab": {
          "base_uri": "https://localhost:8080/"
        },
        "collapsed": true,
        "outputId": "80005de4-df72-4e77-b4d0-2d38816fb213"
      },
      "execution_count": 87,
      "outputs": [
        {
          "output_type": "execute_result",
          "data": {
            "text/plain": [
              "array([1, 0, 1, 1, 1, 1, 1, 1, 0, 1, 1, 1, 1, 1, 1, 0, 1, 1, 1, 0, 1, 0,\n",
              "       1, 1, 1, 1, 0, 0, 1, 0, 1, 1, 1, 1, 1, 1, 1, 0, 0, 1, 1, 0, 1, 1,\n",
              "       0, 1, 1, 0, 0, 1, 0, 1, 1, 0, 0, 1, 1, 0, 1, 0, 1, 0, 0, 0, 1, 1,\n",
              "       0, 1, 1, 1, 1, 1, 0, 0, 0, 0, 1, 1, 0, 1, 0, 1, 0, 0, 0, 1, 1, 1,\n",
              "       0, 0, 0, 1, 0, 0, 1, 0, 0, 1, 1, 0, 1, 1, 0, 1, 0, 0, 0, 1, 1, 1,\n",
              "       0, 0, 1, 1, 1, 0, 0, 0, 0, 1, 0, 1, 0, 1, 1, 1, 1, 1, 0, 1, 1, 1,\n",
              "       1, 1, 0, 1, 1, 1, 1, 1, 1, 1, 0, 1, 1, 1, 0, 0, 0, 0, 0, 0, 0, 1,\n",
              "       1, 0, 1, 1, 0, 1, 1, 1, 1, 0, 0, 0, 1, 1, 1, 1, 1, 1, 0, 1, 0, 1,\n",
              "       1, 0, 0, 1, 0, 0, 1, 1, 0, 1, 1, 1, 0, 0, 1, 0, 1, 1, 1, 0, 0, 1,\n",
              "       1, 1, 1, 0, 1, 1, 1, 1, 1, 0, 1, 1, 1, 1, 0, 1, 1, 0, 1, 1, 0, 1,\n",
              "       1, 1, 1, 1, 0, 0, 0, 1, 0, 1, 1, 1, 0, 1, 1, 0, 1, 0, 1, 0, 0, 0,\n",
              "       1, 0, 1, 0, 1, 1, 0, 1, 1, 0, 1])"
            ]
          },
          "metadata": {},
          "execution_count": 87
        }
      ]
    },
    {
      "cell_type": "code",
      "source": [
        "# file_paths"
      ],
      "metadata": {
        "colab": {
          "base_uri": "https://localhost:8080/"
        },
        "collapsed": true,
        "id": "hgKFHBNvyGy-",
        "outputId": "4fbf3464-bfd7-48fa-ec3f-2e421fc784e5"
      },
      "execution_count": 88,
      "outputs": [
        {
          "output_type": "execute_result",
          "data": {
            "text/plain": [
              "array(['/content/drive/My Drive/brain_tumor_dataset/yes/Y193.JPG',\n",
              "       '/content/drive/My Drive/brain_tumor_dataset/no/no 7.jpeg',\n",
              "       '/content/drive/My Drive/brain_tumor_dataset/yes/Y245.jpg',\n",
              "       '/content/drive/My Drive/brain_tumor_dataset/yes/Y101.jpg',\n",
              "       '/content/drive/My Drive/brain_tumor_dataset/yes/Y183.jpg',\n",
              "       '/content/drive/My Drive/brain_tumor_dataset/yes/Y38.jpg',\n",
              "       '/content/drive/My Drive/brain_tumor_dataset/yes/Y12.jpg',\n",
              "       '/content/drive/My Drive/brain_tumor_dataset/yes/Y7.jpg',\n",
              "       '/content/drive/My Drive/brain_tumor_dataset/no/No11.jpg',\n",
              "       '/content/drive/My Drive/brain_tumor_dataset/yes/Y161.JPG',\n",
              "       '/content/drive/My Drive/brain_tumor_dataset/yes/Y182.JPG',\n",
              "       '/content/drive/My Drive/brain_tumor_dataset/yes/Y75.JPG',\n",
              "       '/content/drive/My Drive/brain_tumor_dataset/yes/Y109.JPG',\n",
              "       '/content/drive/My Drive/brain_tumor_dataset/yes/Y28.jpg',\n",
              "       '/content/drive/My Drive/brain_tumor_dataset/yes/Y186.jpg',\n",
              "       '/content/drive/My Drive/brain_tumor_dataset/no/No21.jpg',\n",
              "       '/content/drive/My Drive/brain_tumor_dataset/yes/Y44.JPG',\n",
              "       '/content/drive/My Drive/brain_tumor_dataset/yes/Y246.JPG',\n",
              "       '/content/drive/My Drive/brain_tumor_dataset/yes/Y192.JPG',\n",
              "       '/content/drive/My Drive/brain_tumor_dataset/no/no.jpg',\n",
              "       '/content/drive/My Drive/brain_tumor_dataset/yes/Y27.jpg',\n",
              "       '/content/drive/My Drive/brain_tumor_dataset/no/6 no.jpg',\n",
              "       '/content/drive/My Drive/brain_tumor_dataset/yes/Y82.jpg',\n",
              "       '/content/drive/My Drive/brain_tumor_dataset/yes/Y164.JPG',\n",
              "       '/content/drive/My Drive/brain_tumor_dataset/yes/Y11.jpg',\n",
              "       '/content/drive/My Drive/brain_tumor_dataset/yes/Y99.JPG',\n",
              "       '/content/drive/My Drive/brain_tumor_dataset/no/18 no.jpg',\n",
              "       '/content/drive/My Drive/brain_tumor_dataset/no/N2.JPG',\n",
              "       '/content/drive/My Drive/brain_tumor_dataset/yes/Y35.jpg',\n",
              "       '/content/drive/My Drive/brain_tumor_dataset/no/44no.jpg',\n",
              "       '/content/drive/My Drive/brain_tumor_dataset/yes/Y92.png',\n",
              "       '/content/drive/My Drive/brain_tumor_dataset/yes/Y153.jpg',\n",
              "       '/content/drive/My Drive/brain_tumor_dataset/yes/Y111.JPG',\n",
              "       '/content/drive/My Drive/brain_tumor_dataset/yes/Y256.JPG',\n",
              "       '/content/drive/My Drive/brain_tumor_dataset/yes/Y243.JPG',\n",
              "       '/content/drive/My Drive/brain_tumor_dataset/yes/Y170.JPG',\n",
              "       '/content/drive/My Drive/brain_tumor_dataset/yes/Y26.jpg',\n",
              "       '/content/drive/My Drive/brain_tumor_dataset/no/14 no.jpg',\n",
              "       '/content/drive/My Drive/brain_tumor_dataset/no/30 no.jpg',\n",
              "       '/content/drive/My Drive/brain_tumor_dataset/yes/Y3.jpg',\n",
              "       '/content/drive/My Drive/brain_tumor_dataset/yes/Y15.jpg',\n",
              "       '/content/drive/My Drive/brain_tumor_dataset/no/21 no.jpg',\n",
              "       '/content/drive/My Drive/brain_tumor_dataset/yes/Y42.jpg',\n",
              "       '/content/drive/My Drive/brain_tumor_dataset/yes/Y252.jpg',\n",
              "       '/content/drive/My Drive/brain_tumor_dataset/no/no 923.jpg',\n",
              "       '/content/drive/My Drive/brain_tumor_dataset/yes/Y156.JPG',\n",
              "       '/content/drive/My Drive/brain_tumor_dataset/yes/Y81.jpg',\n",
              "       '/content/drive/My Drive/brain_tumor_dataset/no/50 no.jpg',\n",
              "       '/content/drive/My Drive/brain_tumor_dataset/no/No12.jpg',\n",
              "       '/content/drive/My Drive/brain_tumor_dataset/yes/Y255.JPG',\n",
              "       '/content/drive/My Drive/brain_tumor_dataset/no/No19.jpg',\n",
              "       '/content/drive/My Drive/brain_tumor_dataset/yes/Y20.jpg',\n",
              "       '/content/drive/My Drive/brain_tumor_dataset/yes/Y194.jpg',\n",
              "       '/content/drive/My Drive/brain_tumor_dataset/no/no 10.jpg',\n",
              "       '/content/drive/My Drive/brain_tumor_dataset/no/N26.JPG',\n",
              "       '/content/drive/My Drive/brain_tumor_dataset/yes/Y250.jpg',\n",
              "       '/content/drive/My Drive/brain_tumor_dataset/yes/Y71.JPG',\n",
              "       '/content/drive/My Drive/brain_tumor_dataset/no/27 no.jpg',\n",
              "       '/content/drive/My Drive/brain_tumor_dataset/yes/Y61.jpg',\n",
              "       '/content/drive/My Drive/brain_tumor_dataset/no/24 no.jpg',\n",
              "       '/content/drive/My Drive/brain_tumor_dataset/yes/Y185.jpg',\n",
              "       '/content/drive/My Drive/brain_tumor_dataset/no/No22.jpg',\n",
              "       '/content/drive/My Drive/brain_tumor_dataset/no/17 no.jpg',\n",
              "       '/content/drive/My Drive/brain_tumor_dataset/no/no 92.jpg',\n",
              "       '/content/drive/My Drive/brain_tumor_dataset/yes/Y6.jpg',\n",
              "       '/content/drive/My Drive/brain_tumor_dataset/yes/Y92.jpg',\n",
              "       '/content/drive/My Drive/brain_tumor_dataset/no/40 no.jpg',\n",
              "       '/content/drive/My Drive/brain_tumor_dataset/yes/Y108.jpg',\n",
              "       '/content/drive/My Drive/brain_tumor_dataset/yes/Y19.JPG',\n",
              "       '/content/drive/My Drive/brain_tumor_dataset/yes/Y69.jpg',\n",
              "       '/content/drive/My Drive/brain_tumor_dataset/yes/Y9.jpg',\n",
              "       '/content/drive/My Drive/brain_tumor_dataset/yes/Y52.jpg',\n",
              "       '/content/drive/My Drive/brain_tumor_dataset/no/no 95.jpg',\n",
              "       '/content/drive/My Drive/brain_tumor_dataset/no/25 no.jpg',\n",
              "       '/content/drive/My Drive/brain_tumor_dataset/no/no 99.jpg',\n",
              "       '/content/drive/My Drive/brain_tumor_dataset/no/no 1.jpg',\n",
              "       '/content/drive/My Drive/brain_tumor_dataset/yes/Y107.jpg',\n",
              "       '/content/drive/My Drive/brain_tumor_dataset/yes/Y58.JPG',\n",
              "       '/content/drive/My Drive/brain_tumor_dataset/no/13 no.jpg',\n",
              "       '/content/drive/My Drive/brain_tumor_dataset/yes/Y116.JPG',\n",
              "       '/content/drive/My Drive/brain_tumor_dataset/no/N5.jpg',\n",
              "       '/content/drive/My Drive/brain_tumor_dataset/yes/Y148.JPG',\n",
              "       '/content/drive/My Drive/brain_tumor_dataset/no/N16.jpg',\n",
              "       '/content/drive/My Drive/brain_tumor_dataset/no/No14.jpg',\n",
              "       '/content/drive/My Drive/brain_tumor_dataset/no/34 no.jpg',\n",
              "       '/content/drive/My Drive/brain_tumor_dataset/yes/Y74.jpg',\n",
              "       '/content/drive/My Drive/brain_tumor_dataset/yes/Y187.jpg',\n",
              "       '/content/drive/My Drive/brain_tumor_dataset/yes/Y66.JPG',\n",
              "       '/content/drive/My Drive/brain_tumor_dataset/no/47 no.jpg',\n",
              "       '/content/drive/My Drive/brain_tumor_dataset/no/22 no.jpg',\n",
              "       '/content/drive/My Drive/brain_tumor_dataset/no/12 no.jpg',\n",
              "       '/content/drive/My Drive/brain_tumor_dataset/yes/Y106.jpg',\n",
              "       '/content/drive/My Drive/brain_tumor_dataset/no/32 no.jpg',\n",
              "       '/content/drive/My Drive/brain_tumor_dataset/no/38 no.jpg',\n",
              "       '/content/drive/My Drive/brain_tumor_dataset/yes/Y67.JPG',\n",
              "       '/content/drive/My Drive/brain_tumor_dataset/no/N3.jpg',\n",
              "       '/content/drive/My Drive/brain_tumor_dataset/no/N20.JPG',\n",
              "       '/content/drive/My Drive/brain_tumor_dataset/yes/Y165.JPG',\n",
              "       '/content/drive/My Drive/brain_tumor_dataset/yes/Y146.JPG',\n",
              "       '/content/drive/My Drive/brain_tumor_dataset/no/28 no.jpg',\n",
              "       '/content/drive/My Drive/brain_tumor_dataset/yes/Y29.jpg',\n",
              "       '/content/drive/My Drive/brain_tumor_dataset/yes/Y162.jpg',\n",
              "       '/content/drive/My Drive/brain_tumor_dataset/no/N19.JPG',\n",
              "       '/content/drive/My Drive/brain_tumor_dataset/yes/Y40.JPG',\n",
              "       '/content/drive/My Drive/brain_tumor_dataset/no/no 4.jpg',\n",
              "       '/content/drive/My Drive/brain_tumor_dataset/no/N15.jpg',\n",
              "       '/content/drive/My Drive/brain_tumor_dataset/no/11 no.jpg',\n",
              "       '/content/drive/My Drive/brain_tumor_dataset/yes/Y76.jpg',\n",
              "       '/content/drive/My Drive/brain_tumor_dataset/yes/Y104.jpg',\n",
              "       '/content/drive/My Drive/brain_tumor_dataset/yes/Y160.JPG',\n",
              "       '/content/drive/My Drive/brain_tumor_dataset/no/no 9.png',\n",
              "       '/content/drive/My Drive/brain_tumor_dataset/no/2 no.jpeg',\n",
              "       '/content/drive/My Drive/brain_tumor_dataset/yes/Y17.jpg',\n",
              "       '/content/drive/My Drive/brain_tumor_dataset/yes/Y254.jpg',\n",
              "       '/content/drive/My Drive/brain_tumor_dataset/yes/Y78.jpg',\n",
              "       '/content/drive/My Drive/brain_tumor_dataset/no/48 no.jpeg',\n",
              "       '/content/drive/My Drive/brain_tumor_dataset/no/23 no.jpg',\n",
              "       '/content/drive/My Drive/brain_tumor_dataset/no/35 no.jpg',\n",
              "       '/content/drive/My Drive/brain_tumor_dataset/no/N11.jpg',\n",
              "       '/content/drive/My Drive/brain_tumor_dataset/yes/Y70.jpg',\n",
              "       '/content/drive/My Drive/brain_tumor_dataset/no/29 no.jpg',\n",
              "       '/content/drive/My Drive/brain_tumor_dataset/yes/Y253.JPG',\n",
              "       '/content/drive/My Drive/brain_tumor_dataset/no/7 no.jpg',\n",
              "       '/content/drive/My Drive/brain_tumor_dataset/yes/Y248.JPG',\n",
              "       '/content/drive/My Drive/brain_tumor_dataset/yes/Y95.jpg',\n",
              "       '/content/drive/My Drive/brain_tumor_dataset/yes/Y147.JPG',\n",
              "       '/content/drive/My Drive/brain_tumor_dataset/yes/Y50.JPG',\n",
              "       '/content/drive/My Drive/brain_tumor_dataset/yes/Y53.jpg',\n",
              "       '/content/drive/My Drive/brain_tumor_dataset/no/N6.jpg',\n",
              "       '/content/drive/My Drive/brain_tumor_dataset/yes/Y60.jpg',\n",
              "       '/content/drive/My Drive/brain_tumor_dataset/yes/Y24.jpg',\n",
              "       '/content/drive/My Drive/brain_tumor_dataset/yes/Y157.JPG',\n",
              "       '/content/drive/My Drive/brain_tumor_dataset/yes/Y188.jpg',\n",
              "       '/content/drive/My Drive/brain_tumor_dataset/yes/Y163.JPG',\n",
              "       '/content/drive/My Drive/brain_tumor_dataset/no/5 no.jpg',\n",
              "       '/content/drive/My Drive/brain_tumor_dataset/yes/Y37.jpg',\n",
              "       '/content/drive/My Drive/brain_tumor_dataset/yes/Y18.JPG',\n",
              "       '/content/drive/My Drive/brain_tumor_dataset/yes/Y2.jpg',\n",
              "       '/content/drive/My Drive/brain_tumor_dataset/yes/Y112.JPG',\n",
              "       '/content/drive/My Drive/brain_tumor_dataset/yes/Y258.JPG',\n",
              "       '/content/drive/My Drive/brain_tumor_dataset/yes/Y1.jpg',\n",
              "       '/content/drive/My Drive/brain_tumor_dataset/yes/Y195.JPG',\n",
              "       '/content/drive/My Drive/brain_tumor_dataset/no/no 96.jpg',\n",
              "       '/content/drive/My Drive/brain_tumor_dataset/yes/Y39.jpg',\n",
              "       '/content/drive/My Drive/brain_tumor_dataset/yes/Y86.JPG',\n",
              "       '/content/drive/My Drive/brain_tumor_dataset/yes/Y113.JPG',\n",
              "       '/content/drive/My Drive/brain_tumor_dataset/no/1 no.jpeg',\n",
              "       '/content/drive/My Drive/brain_tumor_dataset/no/no 97.jpg',\n",
              "       '/content/drive/My Drive/brain_tumor_dataset/no/no 98.jpg',\n",
              "       '/content/drive/My Drive/brain_tumor_dataset/no/No17.jpg',\n",
              "       '/content/drive/My Drive/brain_tumor_dataset/no/N1.JPG',\n",
              "       '/content/drive/My Drive/brain_tumor_dataset/no/9 no.jpg',\n",
              "       '/content/drive/My Drive/brain_tumor_dataset/no/no 89.jpg',\n",
              "       '/content/drive/My Drive/brain_tumor_dataset/yes/Y97.JPG',\n",
              "       '/content/drive/My Drive/brain_tumor_dataset/yes/Y167.JPG',\n",
              "       '/content/drive/My Drive/brain_tumor_dataset/no/31 no.jpg',\n",
              "       '/content/drive/My Drive/brain_tumor_dataset/yes/Y62.jpg',\n",
              "       '/content/drive/My Drive/brain_tumor_dataset/yes/Y169.jpg',\n",
              "       '/content/drive/My Drive/brain_tumor_dataset/no/no 2.jpg',\n",
              "       '/content/drive/My Drive/brain_tumor_dataset/yes/Y100.JPG',\n",
              "       '/content/drive/My Drive/brain_tumor_dataset/yes/Y158.JPG',\n",
              "       '/content/drive/My Drive/brain_tumor_dataset/yes/Y41.jpg',\n",
              "       '/content/drive/My Drive/brain_tumor_dataset/yes/Y98.JPG',\n",
              "       '/content/drive/My Drive/brain_tumor_dataset/no/15 no.jpg',\n",
              "       '/content/drive/My Drive/brain_tumor_dataset/no/No16.jpg',\n",
              "       '/content/drive/My Drive/brain_tumor_dataset/no/no 8.jpg',\n",
              "       '/content/drive/My Drive/brain_tumor_dataset/yes/Y14.jpg',\n",
              "       '/content/drive/My Drive/brain_tumor_dataset/yes/Y79.jpg',\n",
              "       '/content/drive/My Drive/brain_tumor_dataset/yes/Y30.jpg',\n",
              "       '/content/drive/My Drive/brain_tumor_dataset/yes/Y54.jpg',\n",
              "       '/content/drive/My Drive/brain_tumor_dataset/yes/Y49.JPG',\n",
              "       '/content/drive/My Drive/brain_tumor_dataset/yes/Y45.JPG',\n",
              "       '/content/drive/My Drive/brain_tumor_dataset/no/no 94.jpg',\n",
              "       '/content/drive/My Drive/brain_tumor_dataset/yes/Y55.jpg',\n",
              "       '/content/drive/My Drive/brain_tumor_dataset/no/20 no.jpg',\n",
              "       '/content/drive/My Drive/brain_tumor_dataset/yes/Y120.JPG',\n",
              "       '/content/drive/My Drive/brain_tumor_dataset/yes/Y102.jpg',\n",
              "       '/content/drive/My Drive/brain_tumor_dataset/no/42 no.jpg',\n",
              "       '/content/drive/My Drive/brain_tumor_dataset/no/N21.jpg',\n",
              "       '/content/drive/My Drive/brain_tumor_dataset/yes/Y244.JPG',\n",
              "       '/content/drive/My Drive/brain_tumor_dataset/no/No13.jpg',\n",
              "       '/content/drive/My Drive/brain_tumor_dataset/no/10 no.jpg',\n",
              "       '/content/drive/My Drive/brain_tumor_dataset/yes/Y13.jpg',\n",
              "       '/content/drive/My Drive/brain_tumor_dataset/yes/Y4.jpg',\n",
              "       '/content/drive/My Drive/brain_tumor_dataset/no/49 no.jpg',\n",
              "       '/content/drive/My Drive/brain_tumor_dataset/yes/Y105.jpg',\n",
              "       '/content/drive/My Drive/brain_tumor_dataset/yes/Y159.JPG',\n",
              "       '/content/drive/My Drive/brain_tumor_dataset/yes/Y59.JPG',\n",
              "       '/content/drive/My Drive/brain_tumor_dataset/no/26 no.jpg',\n",
              "       '/content/drive/My Drive/brain_tumor_dataset/no/45 no.jpg',\n",
              "       '/content/drive/My Drive/brain_tumor_dataset/yes/Y16.JPG',\n",
              "       '/content/drive/My Drive/brain_tumor_dataset/no/N17.jpg',\n",
              "       '/content/drive/My Drive/brain_tumor_dataset/yes/Y22.jpg',\n",
              "       '/content/drive/My Drive/brain_tumor_dataset/yes/Y33.jpg',\n",
              "       '/content/drive/My Drive/brain_tumor_dataset/yes/Y155.JPG',\n",
              "       '/content/drive/My Drive/brain_tumor_dataset/no/41 no.jpg',\n",
              "       '/content/drive/My Drive/brain_tumor_dataset/no/36 no.jpg',\n",
              "       '/content/drive/My Drive/brain_tumor_dataset/yes/Y257.jpg',\n",
              "       '/content/drive/My Drive/brain_tumor_dataset/yes/Y114.JPG',\n",
              "       '/content/drive/My Drive/brain_tumor_dataset/yes/Y21.jpg',\n",
              "       '/content/drive/My Drive/brain_tumor_dataset/yes/Y184.JPG',\n",
              "       '/content/drive/My Drive/brain_tumor_dataset/no/39 no.jpg',\n",
              "       '/content/drive/My Drive/brain_tumor_dataset/yes/Y46.jpg',\n",
              "       '/content/drive/My Drive/brain_tumor_dataset/yes/Y154.jpg',\n",
              "       '/content/drive/My Drive/brain_tumor_dataset/yes/Y259.JPG',\n",
              "       '/content/drive/My Drive/brain_tumor_dataset/yes/Y65.JPG',\n",
              "       '/content/drive/My Drive/brain_tumor_dataset/yes/Y77.jpg',\n",
              "       '/content/drive/My Drive/brain_tumor_dataset/no/4 no.jpg',\n",
              "       '/content/drive/My Drive/brain_tumor_dataset/yes/Y242.JPG',\n",
              "       '/content/drive/My Drive/brain_tumor_dataset/yes/Y168.jpg',\n",
              "       '/content/drive/My Drive/brain_tumor_dataset/yes/Y90.jpg',\n",
              "       '/content/drive/My Drive/brain_tumor_dataset/yes/Y180.jpg',\n",
              "       '/content/drive/My Drive/brain_tumor_dataset/no/37 no.jpg',\n",
              "       '/content/drive/My Drive/brain_tumor_dataset/yes/Y251.JPG',\n",
              "       '/content/drive/My Drive/brain_tumor_dataset/yes/Y10.jpg',\n",
              "       '/content/drive/My Drive/brain_tumor_dataset/no/no 6.jpg',\n",
              "       '/content/drive/My Drive/brain_tumor_dataset/yes/Y96.jpg',\n",
              "       '/content/drive/My Drive/brain_tumor_dataset/yes/Y25.jpg',\n",
              "       '/content/drive/My Drive/brain_tumor_dataset/no/no 3.jpg',\n",
              "       '/content/drive/My Drive/brain_tumor_dataset/yes/Y36.JPG',\n",
              "       '/content/drive/My Drive/brain_tumor_dataset/yes/Y47.JPG',\n",
              "       '/content/drive/My Drive/brain_tumor_dataset/yes/Y115.JPG',\n",
              "       '/content/drive/My Drive/brain_tumor_dataset/yes/Y181.jpg',\n",
              "       '/content/drive/My Drive/brain_tumor_dataset/yes/Y91.jpg',\n",
              "       '/content/drive/My Drive/brain_tumor_dataset/no/No20.jpg',\n",
              "       '/content/drive/My Drive/brain_tumor_dataset/no/no 100.jpg',\n",
              "       '/content/drive/My Drive/brain_tumor_dataset/no/33 no.jpg',\n",
              "       '/content/drive/My Drive/brain_tumor_dataset/yes/Y23.JPG',\n",
              "       '/content/drive/My Drive/brain_tumor_dataset/no/no 5.jpeg',\n",
              "       '/content/drive/My Drive/brain_tumor_dataset/yes/Y8.jpg',\n",
              "       '/content/drive/My Drive/brain_tumor_dataset/yes/Y249.JPG',\n",
              "       '/content/drive/My Drive/brain_tumor_dataset/yes/Y85.JPG',\n",
              "       '/content/drive/My Drive/brain_tumor_dataset/no/46 no.jpg',\n",
              "       '/content/drive/My Drive/brain_tumor_dataset/yes/Y73.jpg',\n",
              "       '/content/drive/My Drive/brain_tumor_dataset/yes/Y32.jpg',\n",
              "       '/content/drive/My Drive/brain_tumor_dataset/no/N22.JPG',\n",
              "       '/content/drive/My Drive/brain_tumor_dataset/yes/Y166.JPG',\n",
              "       '/content/drive/My Drive/brain_tumor_dataset/no/no 91.jpeg',\n",
              "       '/content/drive/My Drive/brain_tumor_dataset/yes/Y56.jpg',\n",
              "       '/content/drive/My Drive/brain_tumor_dataset/no/No18.jpg',\n",
              "       '/content/drive/My Drive/brain_tumor_dataset/no/no 90.jpg',\n",
              "       '/content/drive/My Drive/brain_tumor_dataset/no/43 no.jpg',\n",
              "       '/content/drive/My Drive/brain_tumor_dataset/yes/Y89.JPG',\n",
              "       '/content/drive/My Drive/brain_tumor_dataset/no/3 no.jpg',\n",
              "       '/content/drive/My Drive/brain_tumor_dataset/yes/Y51.jpg',\n",
              "       '/content/drive/My Drive/brain_tumor_dataset/no/19 no.jpg',\n",
              "       '/content/drive/My Drive/brain_tumor_dataset/yes/Y103.jpg',\n",
              "       '/content/drive/My Drive/brain_tumor_dataset/yes/Y34.jpg',\n",
              "       '/content/drive/My Drive/brain_tumor_dataset/no/No15.jpg',\n",
              "       '/content/drive/My Drive/brain_tumor_dataset/yes/Y31.jpg',\n",
              "       '/content/drive/My Drive/brain_tumor_dataset/yes/Y117.JPG',\n",
              "       '/content/drive/My Drive/brain_tumor_dataset/no/8 no.jpg',\n",
              "       '/content/drive/My Drive/brain_tumor_dataset/yes/Y247.JPG'],\n",
              "      dtype='<U57')"
            ]
          },
          "metadata": {},
          "execution_count": 88
        }
      ]
    },
    {
      "cell_type": "code",
      "source": [
        "# classes = ds.class_names\n",
        "\n",
        "# plt.figure (figsize = (10,10))\n",
        "\n",
        "# for image_batch, label_batch in ds.take(1):\n",
        "#     for i in range(12):\n",
        "#         axes = plt.subplot(4,3,i+1)\n",
        "#         plt.imshow (image_batch[i].numpy().astype('uint8'))\n",
        "#         plt.title (classes[label_batch[i]])\n",
        "#         plt.axis('off')"
      ],
      "metadata": {
        "id": "YovMLDf0Sdxw"
      },
      "execution_count": 89,
      "outputs": []
    },
    {
      "cell_type": "code",
      "source": [
        "\n",
        "# def preprocess_images(file_paths):\n",
        "#     images = []\n",
        "#     for file_path in file_paths:\n",
        "#         image = cv2.imread(file_path)\n",
        "#         image = cv2.resize(image, (128, 128))  # Resize to 128x128\n",
        "#         image = cv2.cvtColor(image, cv2.COLOR_BGR2GRAY)  # Convert to grayscale\n",
        "#         images.append(image.flatten())  # Flatten the image\n",
        "#     print(images)\n",
        "#     return np.array(images)"
      ],
      "metadata": {
        "id": "OiL67usnSfkJ"
      },
      "execution_count": 90,
      "outputs": []
    },
    {
      "cell_type": "code",
      "source": [
        "# X = preprocess_images(file_paths)\n",
        "# y = labels"
      ],
      "metadata": {
        "id": "MfSsm0T-SmWc",
        "colab": {
          "base_uri": "https://localhost:8080/"
        },
        "outputId": "0c121fdc-3c28-4ba8-d7b4-fbab916eafd9"
      },
      "execution_count": 91,
      "outputs": [
        {
          "output_type": "stream",
          "name": "stdout",
          "text": [
            "[array([ 6,  6,  6, ..., 10, 10, 10], dtype=uint8), array([10, 10, 10, ..., 10, 10, 10], dtype=uint8), array([0, 0, 0, ..., 0, 0, 0], dtype=uint8), array([128,  58,  57, ...,  56,  56, 127], dtype=uint8), array([59, 20, 21, ..., 20, 20, 59], dtype=uint8), array([1, 1, 1, ..., 0, 1, 1], dtype=uint8), array([1, 1, 1, ..., 6, 6, 7], dtype=uint8), array([0, 0, 0, ..., 0, 0, 0], dtype=uint8), array([10, 10, 10, ..., 10, 10, 10], dtype=uint8), array([10,  8,  8, ...,  5,  1,  0], dtype=uint8), array([88, 88, 88, ...,  6,  6,  6], dtype=uint8), array([53, 13,  3, ...,  5,  7,  6], dtype=uint8), array([254, 255, 252, ..., 254, 254, 255], dtype=uint8), array([0, 0, 0, ..., 0, 0, 0], dtype=uint8), array([0, 0, 0, ..., 0, 0, 0], dtype=uint8), array([12, 12, 12, ..., 12, 12, 12], dtype=uint8), array([1, 0, 1, ..., 1, 1, 1], dtype=uint8), array([ 1,  1,  1, ..., 20, 20, 20], dtype=uint8), array([113,   7,   7, ...,   7,  42, 253], dtype=uint8), array([16, 16, 16, ..., 16, 16, 16], dtype=uint8), array([16, 16, 16, ..., 16, 16, 16], dtype=uint8), array([0, 0, 0, ..., 0, 0, 0], dtype=uint8), array([47, 48, 48, ..., 47, 47, 47], dtype=uint8), array([0, 0, 0, ..., 0, 0, 0], dtype=uint8), array([1, 1, 1, ..., 1, 1, 1], dtype=uint8), array([31, 31, 31, ..., 16, 19, 21], dtype=uint8), array([0, 0, 0, ..., 0, 0, 0], dtype=uint8), array([28,  2,  1, ..., 19, 19, 19], dtype=uint8), array([206,   6,   8, ...,   9,   8,   8], dtype=uint8), array([12, 12, 12, ..., 11, 11, 11], dtype=uint8), array([0, 0, 0, ..., 0, 0, 0], dtype=uint8), array([0, 0, 0, ..., 0, 0, 0], dtype=uint8), array([ 14,  11,   7, ...,  77, 251, 253], dtype=uint8), array([1, 1, 1, ..., 6, 6, 6], dtype=uint8), array([3, 3, 3, ..., 3, 3, 3], dtype=uint8), array([27, 27, 27, ...,  0,  0,  0], dtype=uint8), array([1, 1, 1, ..., 1, 1, 1], dtype=uint8), array([0, 0, 0, ..., 0, 0, 0], dtype=uint8), array([31, 31, 31, ..., 31, 31, 30], dtype=uint8), array([0, 0, 0, ..., 0, 0, 0], dtype=uint8), array([95, 78, 56, ...,  7,  8,  8], dtype=uint8), array([4, 4, 4, ..., 4, 4, 4], dtype=uint8), array([  0,   0,   0, ..., 161, 161, 161], dtype=uint8), array([0, 0, 0, ..., 0, 0, 0], dtype=uint8), array([16, 16, 16, ..., 35, 35, 53], dtype=uint8), array([7, 2, 2, ..., 4, 3, 8], dtype=uint8), array([24, 28, 32, ..., 32, 28, 99], dtype=uint8), array([0, 0, 0, ..., 0, 0, 0], dtype=uint8), array([3, 2, 1, ..., 0, 1, 1], dtype=uint8), array([0, 0, 0, ..., 0, 0, 0], dtype=uint8), array([ 8, 15, 13, ..., 11, 13, 14], dtype=uint8), array([0, 0, 0, ..., 0, 0, 0], dtype=uint8), array([0, 0, 0, ..., 0, 0, 0], dtype=uint8), array([1, 1, 1, ..., 1, 1, 1], dtype=uint8), array([1, 1, 1, ..., 1, 1, 1], dtype=uint8), array([14, 14, 14, ..., 11, 11, 11], dtype=uint8), array([6, 4, 4, ..., 0, 0, 0], dtype=uint8), array([2, 2, 2, ..., 2, 2, 2], dtype=uint8), array([1, 5, 4, ..., 0, 0, 0], dtype=uint8), array([2, 1, 1, ..., 1, 0, 0], dtype=uint8), array([40, 40, 40, ..., 43, 45, 46], dtype=uint8), array([2, 3, 3, ..., 2, 2, 2], dtype=uint8), array([2, 2, 2, ..., 2, 2, 2], dtype=uint8), array([116,  21,  22, ...,  22,  22,  22], dtype=uint8), array([1, 1, 1, ..., 1, 1, 1], dtype=uint8), array([1, 1, 1, ..., 0, 0, 0], dtype=uint8), array([0, 0, 0, ..., 0, 0, 0], dtype=uint8), array([0, 0, 0, ..., 0, 0, 0], dtype=uint8), array([13,  4,  5, ..., 24, 24, 24], dtype=uint8), array([0, 0, 0, ..., 0, 0, 0], dtype=uint8), array([0, 0, 0, ..., 0, 0, 0], dtype=uint8), array([1, 1, 1, ..., 1, 1, 1], dtype=uint8), array([0, 0, 0, ..., 0, 0, 0], dtype=uint8), array([3, 3, 3, ..., 3, 3, 3], dtype=uint8), array([0, 0, 0, ..., 0, 0, 0], dtype=uint8), array([0, 0, 0, ..., 0, 0, 0], dtype=uint8), array([0, 0, 0, ..., 0, 0, 0], dtype=uint8), array([21, 21, 21, ..., 21, 21, 21], dtype=uint8), array([0, 0, 0, ..., 0, 0, 0], dtype=uint8), array([1, 1, 1, ..., 1, 1, 1], dtype=uint8), array([2, 2, 2, ..., 0, 0, 0], dtype=uint8), array([246,   7,  10, ..., 246, 254, 254], dtype=uint8), array([63, 38, 39, ..., 29, 29, 50], dtype=uint8), array([45, 50, 44, ...,  1,  1,  2], dtype=uint8), array([4, 4, 4, ..., 3, 3, 3], dtype=uint8), array([0, 0, 0, ..., 0, 0, 0], dtype=uint8), array([ 3, 16, 11, ..., 12, 12, 12], dtype=uint8), array([0, 0, 0, ..., 1, 1, 1], dtype=uint8), array([0, 0, 0, ..., 0, 0, 0], dtype=uint8), array([0, 0, 0, ..., 0, 0, 0], dtype=uint8), array([0, 0, 0, ..., 0, 0, 0], dtype=uint8), array([3, 3, 3, ..., 4, 4, 4], dtype=uint8), array([ 96,  32,  43, ...,  77,  78, 121], dtype=uint8), array([3, 3, 3, ..., 2, 2, 2], dtype=uint8), array([0, 0, 0, ..., 0, 0, 0], dtype=uint8), array([3, 3, 3, ..., 2, 1, 2], dtype=uint8), array([11, 11, 11, ..., 10, 10, 10], dtype=uint8), array([2, 2, 1, ..., 0, 0, 0], dtype=uint8), array([ 30,  33,  30, ...,  21, 211, 242], dtype=uint8), array([ 9,  9, 10, ...,  8,  8,  8], dtype=uint8), array([1, 1, 1, ..., 1, 1, 1], dtype=uint8), array([0, 0, 0, ..., 0, 0, 0], dtype=uint8), array([ 6, 10,  9, ...,  8,  8,  7], dtype=uint8), array([34, 34, 33, ..., 22, 27, 22], dtype=uint8), array([3, 3, 3, ..., 2, 1, 2], dtype=uint8), array([0, 0, 0, ..., 0, 0, 0], dtype=uint8), array([0, 0, 0, ..., 0, 0, 0], dtype=uint8), array([0, 0, 0, ..., 0, 0, 0], dtype=uint8), array([135,   7,  14, ...,  19,  11,  10], dtype=uint8), array([1, 1, 1, ..., 2, 2, 1], dtype=uint8), array([0, 0, 0, ..., 0, 0, 0], dtype=uint8), array([0, 0, 0, ..., 0, 0, 0], dtype=uint8), array([ 14,  22,  20, ..., 235,  85,  64], dtype=uint8), array([ 1,  1,  1, ...,  9,  9, 10], dtype=uint8), array([ 11,  10,   9, ...,   0,   0, 123], dtype=uint8), array([0, 0, 0, ..., 0, 0, 0], dtype=uint8), array([27, 27, 27, ..., 26, 28, 29], dtype=uint8), array([1, 1, 1, ..., 1, 1, 1], dtype=uint8), array([1, 1, 1, ..., 1, 1, 1], dtype=uint8), array([1, 1, 1, ..., 0, 1, 1], dtype=uint8), array([0, 0, 0, ..., 2, 2, 2], dtype=uint8), array([2, 3, 3, ..., 5, 9, 1], dtype=uint8), array([0, 0, 0, ..., 0, 0, 0], dtype=uint8), array([0, 0, 0, ..., 0, 0, 0], dtype=uint8), array([23, 11, 13, ..., 12, 12, 22], dtype=uint8), array([ 32,  28,  67, ...,  66,  62, 239], dtype=uint8), array([2, 2, 2, ..., 2, 2, 2], dtype=uint8), array([4, 3, 2, ..., 1, 1, 1], dtype=uint8), array([2, 2, 2, ..., 1, 1, 2], dtype=uint8), array([14,  6,  8, ...,  4,  3, 12], dtype=uint8), array([2, 1, 1, ..., 2, 1, 1], dtype=uint8), array([6, 6, 6, ..., 6, 7, 7], dtype=uint8), array([1, 1, 1, ..., 2, 2, 2], dtype=uint8), array([0, 0, 0, ..., 3, 3, 4], dtype=uint8), array([102,  39,  49, ..., 100, 102, 155], dtype=uint8), array([255, 251, 248, ..., 245, 245, 251], dtype=uint8), array([254,  45,   1, ...,  28,  28,  29], dtype=uint8), array([0, 0, 0, ..., 0, 0, 0], dtype=uint8), array([28, 43, 42, ..., 27, 27, 27], dtype=uint8), array([1, 1, 1, ..., 1, 1, 1], dtype=uint8), array([3, 3, 3, ..., 1, 1, 2], dtype=uint8), array([1, 1, 1, ..., 1, 1, 1], dtype=uint8), array([ 0,  0,  0, ..., 12,  2,  0], dtype=uint8), array([3, 2, 4, ..., 4, 1, 0], dtype=uint8), array([ 7,  8,  8, ..., 27, 31, 28], dtype=uint8), array([57, 57, 57, ..., 22, 21, 21], dtype=uint8), array([0, 0, 0, ..., 0, 0, 0], dtype=uint8), array([16, 16, 16, ..., 16, 16, 15], dtype=uint8), array([0, 0, 0, ..., 0, 0, 0], dtype=uint8), array([9, 9, 9, ..., 9, 9, 8], dtype=uint8), array([0, 0, 0, ..., 0, 0, 0], dtype=uint8), array([0, 0, 0, ..., 0, 0, 0], dtype=uint8), array([13, 12, 13, ..., 12, 12, 12], dtype=uint8), array([138, 154, 161, ..., 157, 177, 149], dtype=uint8), array([  0,   1,   2, ...,  34,  34, 254], dtype=uint8), array([ 41,  47, 169, ...,  12,  12,  12], dtype=uint8), array([0, 0, 0, ..., 0, 0, 0], dtype=uint8), array([1, 1, 1, ..., 1, 1, 1], dtype=uint8), array([0, 0, 0, ..., 0, 0, 0], dtype=uint8), array([0, 0, 0, ..., 1, 1, 1], dtype=uint8), array([ 0,  1,  2, ..., 12, 10, 27], dtype=uint8), array([0, 1, 1, ..., 0, 0, 0], dtype=uint8), array([ 0,  0,  0, ..., 26, 27, 28], dtype=uint8), array([93, 34,  3, ...,  0,  0,  0], dtype=uint8), array([255, 255, 255, ..., 255, 255, 255], dtype=uint8), array([0, 0, 0, ..., 0, 0, 0], dtype=uint8), array([ 14,  22,  20, ..., 235,  85,  64], dtype=uint8), array([1, 1, 1, ..., 1, 1, 1], dtype=uint8), array([1, 1, 1, ..., 0, 1, 1], dtype=uint8), array([1, 1, 1, ..., 0, 1, 1], dtype=uint8), array([0, 0, 4, ..., 3, 3, 3], dtype=uint8), array([11, 11, 11, ..., 11, 11, 11], dtype=uint8), array([0, 0, 0, ..., 0, 0, 0], dtype=uint8), array([0, 0, 0, ..., 0, 0, 0], dtype=uint8), array([252, 252, 250, ..., 250, 254, 254], dtype=uint8), array([30, 27, 26, ..., 23, 18, 19], dtype=uint8), array([11,  9, 14, ..., 13, 10, 11], dtype=uint8), array([0, 0, 0, ..., 0, 0, 0], dtype=uint8), array([1, 1, 1, ..., 1, 1, 2], dtype=uint8), array([1, 1, 1, ..., 1, 1, 1], dtype=uint8), array([6, 6, 6, ..., 5, 6, 5], dtype=uint8), array([0, 0, 0, ..., 0, 0, 0], dtype=uint8), array([1, 1, 1, ..., 1, 1, 1], dtype=uint8), array([125,  88,  74, ...,  31,  30,  95], dtype=uint8), array([0, 0, 0, ..., 0, 0, 0], dtype=uint8), array([0, 0, 0, ..., 0, 0, 0], dtype=uint8), array([ 4,  4,  4, ..., 21, 21, 21], dtype=uint8), array([62, 62, 62, ..., 21, 21, 20], dtype=uint8), array([32, 20, 20, ..., 16, 21, 25], dtype=uint8), array([0, 0, 0, ..., 0, 0, 0], dtype=uint8), array([28, 28, 28, ..., 21, 21, 21], dtype=uint8), array([8, 1, 1, ..., 0, 2, 8], dtype=uint8), array([3, 3, 3, ..., 1, 1, 1], dtype=uint8), array([0, 0, 0, ..., 0, 0, 0], dtype=uint8), array([4, 3, 3, ..., 2, 3, 3], dtype=uint8), array([0, 0, 0, ..., 0, 0, 0], dtype=uint8), array([1, 1, 1, ..., 1, 1, 1], dtype=uint8), array([0, 0, 0, ..., 0, 0, 0], dtype=uint8), array([1, 1, 1, ..., 1, 1, 1], dtype=uint8), array([0, 0, 0, ..., 0, 0, 0], dtype=uint8), array([31, 32, 30, ..., 59, 32, 31], dtype=uint8), array([10, 10, 10, ..., 10, 10, 10], dtype=uint8), array([22, 20, 20, ..., 29, 28, 26], dtype=uint8), array([1, 1, 1, ..., 1, 1, 1], dtype=uint8), array([ 0,  0,  0, ...,  2, 38, 86], dtype=uint8), array([0, 0, 0, ..., 0, 0, 0], dtype=uint8), array([1, 1, 1, ..., 1, 1, 1], dtype=uint8), array([2, 2, 2, ..., 0, 0, 0], dtype=uint8), array([0, 0, 0, ..., 1, 0, 0], dtype=uint8), array([0, 0, 0, ..., 0, 0, 0], dtype=uint8), array([0, 0, 0, ..., 0, 0, 0], dtype=uint8), array([33, 34, 33, ..., 38, 38, 34], dtype=uint8), array([0, 0, 0, ..., 0, 0, 0], dtype=uint8), array([2, 2, 2, ..., 2, 2, 2], dtype=uint8), array([255, 251, 248, ..., 245, 245, 251], dtype=uint8), array([7, 7, 7, ..., 5, 5, 5], dtype=uint8), array([1, 1, 1, ..., 1, 1, 1], dtype=uint8), array([0, 0, 0, ..., 0, 0, 0], dtype=uint8), array([16, 16, 16, ..., 16, 16, 16], dtype=uint8), array([1, 1, 0, ..., 0, 0, 0], dtype=uint8), array([49, 49, 49, ..., 20, 20, 20], dtype=uint8), array([1, 1, 2, ..., 5, 5, 2], dtype=uint8), array([95, 78, 56, ...,  7,  8,  8], dtype=uint8), array([0, 0, 0, ..., 0, 0, 0], dtype=uint8), array([0, 0, 0, ..., 4, 2, 1], dtype=uint8), array([0, 0, 0, ..., 0, 0, 0], dtype=uint8), array([152, 135, 137, ...,   9,  18, 242], dtype=uint8), array([1, 1, 1, ..., 0, 0, 0], dtype=uint8), array([0, 0, 0, ..., 0, 0, 0], dtype=uint8), array([206,   7,   8, ...,   9,   8,   8], dtype=uint8), array([1, 1, 1, ..., 1, 1, 1], dtype=uint8), array([52, 52, 49, ..., 35, 34, 34], dtype=uint8), array([0, 0, 0, ..., 0, 0, 0], dtype=uint8), array([0, 0, 0, ..., 1, 1, 5], dtype=uint8), array([0, 0, 0, ..., 0, 0, 0], dtype=uint8), array([0, 0, 0, ..., 0, 0, 0], dtype=uint8), array([0, 0, 0, ..., 0, 0, 0], dtype=uint8), array([8, 9, 6, ..., 9, 8, 7], dtype=uint8), array([9, 9, 9, ..., 8, 9, 9], dtype=uint8), array([ 6, 10,  9, ...,  8,  8,  8], dtype=uint8), array([0, 0, 0, ..., 0, 0, 0], dtype=uint8), array([0, 0, 0, ..., 0, 0, 0], dtype=uint8), array([254, 254, 254, ..., 254, 253, 254], dtype=uint8), array([0, 0, 0, ..., 0, 0, 0], dtype=uint8), array([1, 1, 1, ..., 1, 1, 1], dtype=uint8), array([0, 0, 0, ..., 0, 0, 0], dtype=uint8), array([ 22,  27, 231, ...,  23,  18,  19], dtype=uint8), array([95, 78, 56, ...,  7,  8,  8], dtype=uint8), array([9, 9, 9, ..., 9, 9, 8], dtype=uint8), array([0, 0, 0, ..., 0, 0, 0], dtype=uint8), array([1, 1, 1, ..., 1, 1, 1], dtype=uint8), array([3, 3, 3, ..., 2, 2, 2], dtype=uint8), array([0, 0, 0, ..., 0, 0, 0], dtype=uint8)]\n"
          ]
        }
      ]
    },
    {
      "cell_type": "code",
      "source": [
        "# X_train, X_test, y_train, y_test = train_test_split(X, y, test_size=0.2, random_state=42)"
      ],
      "metadata": {
        "id": "jYPYDvsoSrfE"
      },
      "execution_count": 92,
      "outputs": []
    },
    {
      "cell_type": "code",
      "source": [
        "## Normalization\n",
        "# scaler = StandardScaler()\n",
        "# X_train = scaler.fit_transform(X_train)\n",
        "# X_test = scaler.transform(X_test)"
      ],
      "metadata": {
        "id": "rq8MoOAsStBM"
      },
      "execution_count": 93,
      "outputs": []
    },
    {
      "cell_type": "code",
      "source": [
        "# X_train"
      ],
      "metadata": {
        "colab": {
          "base_uri": "https://localhost:8080/"
        },
        "id": "aShua0hB3JXO",
        "outputId": "69e8c58a-4418-4011-ee47-0fb5cf070433"
      },
      "execution_count": 94,
      "outputs": [
        {
          "output_type": "execute_result",
          "data": {
            "text/plain": [
              "array([[ 0.13349424,  0.29853354,  0.285087  , ...,  0.20769255,\n",
              "         0.19612983,  0.06470713],\n",
              "       [-0.37392743, -0.33030842, -0.28993685, ..., -0.29981425,\n",
              "        -0.36108852, -0.41525027],\n",
              "       [-0.35580522, -0.28694001, -0.28993685, ..., -0.3186108 ,\n",
              "        -0.32394063, -0.36725453],\n",
              "       ...,\n",
              "       [ 1.31143741,  0.32021775,  0.54065315, ...,  1.07233377,\n",
              "         1.06910524,  1.52057789],\n",
              "       [-0.41017183, -0.35199262, -0.35382839, ..., -0.35620389,\n",
              "        -0.36108852, -0.39925169],\n",
              "       [-0.31956082, -0.15683477, -0.18345095, ..., -0.22462806,\n",
              "        -0.23107091, -0.30326021]])"
            ]
          },
          "metadata": {},
          "execution_count": 94
        }
      ]
    },
    {
      "cell_type": "code",
      "source": [
        "# ## defining the model\n",
        "# svm_model = SVC(kernel='rbf', C=1, gamma='scale')\n",
        "# svm_model.fit(X_train, y_train)"
      ],
      "metadata": {
        "colab": {
          "base_uri": "https://localhost:8080/",
          "height": 74
        },
        "id": "4Pnr39TbTLxI",
        "outputId": "c4dedf4b-c3eb-4736-b8e5-160b83997638"
      },
      "execution_count": 95,
      "outputs": [
        {
          "output_type": "execute_result",
          "data": {
            "text/plain": [
              "SVC(C=1)"
            ],
            "text/html": [
              "<style>#sk-container-id-7 {color: black;background-color: white;}#sk-container-id-7 pre{padding: 0;}#sk-container-id-7 div.sk-toggleable {background-color: white;}#sk-container-id-7 label.sk-toggleable__label {cursor: pointer;display: block;width: 100%;margin-bottom: 0;padding: 0.3em;box-sizing: border-box;text-align: center;}#sk-container-id-7 label.sk-toggleable__label-arrow:before {content: \"▸\";float: left;margin-right: 0.25em;color: #696969;}#sk-container-id-7 label.sk-toggleable__label-arrow:hover:before {color: black;}#sk-container-id-7 div.sk-estimator:hover label.sk-toggleable__label-arrow:before {color: black;}#sk-container-id-7 div.sk-toggleable__content {max-height: 0;max-width: 0;overflow: hidden;text-align: left;background-color: #f0f8ff;}#sk-container-id-7 div.sk-toggleable__content pre {margin: 0.2em;color: black;border-radius: 0.25em;background-color: #f0f8ff;}#sk-container-id-7 input.sk-toggleable__control:checked~div.sk-toggleable__content {max-height: 200px;max-width: 100%;overflow: auto;}#sk-container-id-7 input.sk-toggleable__control:checked~label.sk-toggleable__label-arrow:before {content: \"▾\";}#sk-container-id-7 div.sk-estimator input.sk-toggleable__control:checked~label.sk-toggleable__label {background-color: #d4ebff;}#sk-container-id-7 div.sk-label input.sk-toggleable__control:checked~label.sk-toggleable__label {background-color: #d4ebff;}#sk-container-id-7 input.sk-hidden--visually {border: 0;clip: rect(1px 1px 1px 1px);clip: rect(1px, 1px, 1px, 1px);height: 1px;margin: -1px;overflow: hidden;padding: 0;position: absolute;width: 1px;}#sk-container-id-7 div.sk-estimator {font-family: monospace;background-color: #f0f8ff;border: 1px dotted black;border-radius: 0.25em;box-sizing: border-box;margin-bottom: 0.5em;}#sk-container-id-7 div.sk-estimator:hover {background-color: #d4ebff;}#sk-container-id-7 div.sk-parallel-item::after {content: \"\";width: 100%;border-bottom: 1px solid gray;flex-grow: 1;}#sk-container-id-7 div.sk-label:hover label.sk-toggleable__label {background-color: #d4ebff;}#sk-container-id-7 div.sk-serial::before {content: \"\";position: absolute;border-left: 1px solid gray;box-sizing: border-box;top: 0;bottom: 0;left: 50%;z-index: 0;}#sk-container-id-7 div.sk-serial {display: flex;flex-direction: column;align-items: center;background-color: white;padding-right: 0.2em;padding-left: 0.2em;position: relative;}#sk-container-id-7 div.sk-item {position: relative;z-index: 1;}#sk-container-id-7 div.sk-parallel {display: flex;align-items: stretch;justify-content: center;background-color: white;position: relative;}#sk-container-id-7 div.sk-item::before, #sk-container-id-7 div.sk-parallel-item::before {content: \"\";position: absolute;border-left: 1px solid gray;box-sizing: border-box;top: 0;bottom: 0;left: 50%;z-index: -1;}#sk-container-id-7 div.sk-parallel-item {display: flex;flex-direction: column;z-index: 1;position: relative;background-color: white;}#sk-container-id-7 div.sk-parallel-item:first-child::after {align-self: flex-end;width: 50%;}#sk-container-id-7 div.sk-parallel-item:last-child::after {align-self: flex-start;width: 50%;}#sk-container-id-7 div.sk-parallel-item:only-child::after {width: 0;}#sk-container-id-7 div.sk-dashed-wrapped {border: 1px dashed gray;margin: 0 0.4em 0.5em 0.4em;box-sizing: border-box;padding-bottom: 0.4em;background-color: white;}#sk-container-id-7 div.sk-label label {font-family: monospace;font-weight: bold;display: inline-block;line-height: 1.2em;}#sk-container-id-7 div.sk-label-container {text-align: center;}#sk-container-id-7 div.sk-container {/* jupyter's `normalize.less` sets `[hidden] { display: none; }` but bootstrap.min.css set `[hidden] { display: none !important; }` so we also need the `!important` here to be able to override the default hidden behavior on the sphinx rendered scikit-learn.org. See: https://github.com/scikit-learn/scikit-learn/issues/21755 */display: inline-block !important;position: relative;}#sk-container-id-7 div.sk-text-repr-fallback {display: none;}</style><div id=\"sk-container-id-7\" class=\"sk-top-container\"><div class=\"sk-text-repr-fallback\"><pre>SVC(C=1)</pre><b>In a Jupyter environment, please rerun this cell to show the HTML representation or trust the notebook. <br />On GitHub, the HTML representation is unable to render, please try loading this page with nbviewer.org.</b></div><div class=\"sk-container\" hidden><div class=\"sk-item\"><div class=\"sk-estimator sk-toggleable\"><input class=\"sk-toggleable__control sk-hidden--visually\" id=\"sk-estimator-id-7\" type=\"checkbox\" checked><label for=\"sk-estimator-id-7\" class=\"sk-toggleable__label sk-toggleable__label-arrow\">SVC</label><div class=\"sk-toggleable__content\"><pre>SVC(C=1)</pre></div></div></div></div></div>"
            ]
          },
          "metadata": {},
          "execution_count": 95
        }
      ]
    },
    {
      "cell_type": "code",
      "source": [
        "# y_pred_train_svm = svm_model.predict(X_train)\n",
        "# train_accuracy = accuracy_score(y_train, y_pred_train_svm)\n",
        "# print(f'Train Accuracy: {train_accuracy}')"
      ],
      "metadata": {
        "colab": {
          "base_uri": "https://localhost:8080/"
        },
        "id": "JbdSjlWq35xH",
        "outputId": "f7d267c8-223c-4675-e73c-f7645b5bd1a0"
      },
      "execution_count": 96,
      "outputs": [
        {
          "output_type": "stream",
          "name": "stdout",
          "text": [
            "Train Accuracy: 0.9554455445544554\n"
          ]
        }
      ]
    },
    {
      "cell_type": "code",
      "source": [
        "## testing\n",
        "# y_pred = svm_model.predict(X_test)"
      ],
      "metadata": {
        "id": "ZTVUZ_Rcijr9"
      },
      "execution_count": 97,
      "outputs": []
    },
    {
      "cell_type": "code",
      "source": [
        "# print(\"Accuracy:\", accuracy_score(y_test, y_pred))\n",
        "# print(\"Confusion Matrix:\\n\", confusion_matrix(y_test, y_pred))\n",
        "# print(\"Classification Report:\\n\", classification_report(y_test, y_pred))"
      ],
      "metadata": {
        "colab": {
          "base_uri": "https://localhost:8080/"
        },
        "id": "LHJkY-ZdTOOf",
        "outputId": "d817d6b1-1ebc-4e72-bfff-48712417365a"
      },
      "execution_count": 98,
      "outputs": [
        {
          "output_type": "stream",
          "name": "stdout",
          "text": [
            "Accuracy: 0.8823529411764706\n",
            "Confusion Matrix:\n",
            " [[11  2]\n",
            " [ 4 34]]\n",
            "Classification Report:\n",
            "               precision    recall  f1-score   support\n",
            "\n",
            "           0       0.73      0.85      0.79        13\n",
            "           1       0.94      0.89      0.92        38\n",
            "\n",
            "    accuracy                           0.88        51\n",
            "   macro avg       0.84      0.87      0.85        51\n",
            "weighted avg       0.89      0.88      0.88        51\n",
            "\n"
          ]
        }
      ]
    },
    {
      "cell_type": "code",
      "source": [
        "with open('brain_tumor1_SVM.pkl', 'wb') as file:\n",
        "    pickle.dump(svm_model, file)"
      ],
      "metadata": {
        "id": "t9Re3hkrCcZb"
      },
      "execution_count": 129,
      "outputs": []
    },
    {
      "cell_type": "code",
      "source": [
        "def preprocess_image(file_path):\n",
        "    image = cv2.imread(file_path)\n",
        "    if image is None:\n",
        "        raise ValueError(f\"Could not read the image from path: {file_path}\")\n",
        "    image = cv2.resize(image, (32, 32))  # Resize to 128x128\n",
        "    image = cv2.cvtColor(image, cv2.COLOR_BGR2GRAY)  # Convert to grayscale\n",
        "    return image.flatten()"
      ],
      "metadata": {
        "id": "jvcNf23ETRbw"
      },
      "execution_count": 124,
      "outputs": []
    },
    {
      "cell_type": "code",
      "source": [],
      "metadata": {
        "id": "eP_3Xrhn2cL-"
      },
      "execution_count": null,
      "outputs": []
    },
    {
      "cell_type": "code",
      "source": [
        "uploaded_image_path = '/content/11 no.jpg'\n",
        "uploaded_image = preprocess_image(uploaded_image_path)"
      ],
      "metadata": {
        "id": "EdAB7a8iTVIo"
      },
      "execution_count": 130,
      "outputs": []
    },
    {
      "cell_type": "code",
      "source": [
        "prediction = svm_model.predict(np.expand_dims(uploaded_image, axis=0))\n",
        "print(prediction)\n",
        "# Interpret the prediction\n",
        "if prediction[0] == 0:\n",
        "    print(\"Predicted: No Brain Tumor\")\n",
        "else:\n",
        "    print(\"Predicted: Brain Tumor Detected\")"
      ],
      "metadata": {
        "colab": {
          "base_uri": "https://localhost:8080/"
        },
        "id": "Emvi59ZBTYQC",
        "outputId": "348ac5d2-e534-431b-f0b9-ed44d01213c1"
      },
      "execution_count": 128,
      "outputs": [
        {
          "output_type": "stream",
          "name": "stdout",
          "text": [
            "[0]\n",
            "Predicted: No Brain Tumor\n"
          ]
        }
      ]
    }
  ]
}